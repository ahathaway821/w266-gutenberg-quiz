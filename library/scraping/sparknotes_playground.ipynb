{
 "cells": [
  {
   "cell_type": "code",
   "execution_count": 1,
   "metadata": {},
   "outputs": [],
   "source": [
    "import sparknotes_parser"
   ]
  },
  {
   "cell_type": "code",
   "execution_count": 2,
   "metadata": {},
   "outputs": [],
   "source": [
    "def get_sparknotes_quizzes_for_book(urls):\n",
    "    book_questions = []\n",
    "    for url in urls:\n",
    "        quiz_questions = sparknotes_parser.get_quiz_for_book(url)\n",
    "        book_questions = book_questions + quiz_questions\n",
    "    \n",
    "    return book_questions"
   ]
  },
  {
   "cell_type": "code",
   "execution_count": 3,
   "metadata": {},
   "outputs": [
    {
     "name": "stdout",
     "output_type": "stream",
     "text": [
      "50\n"
     ]
    }
   ],
   "source": [
    "siddartha_urls = ['https://www.sparknotes.com/lit/siddhartha/quiz/', \n",
    "                  'https://www.sparknotes.com/lit/siddhartha/summary/?quickquiz_id=1758',\n",
    "                 'https://www.sparknotes.com/lit/siddhartha/characters/?quickquiz_id=1759',\n",
    "                 'https://www.sparknotes.com/lit/siddhartha/themes/?quickquiz_id=1761',\n",
    "                 'https://www.sparknotes.com/lit/siddhartha/section1/?quickquiz_id=1762',\n",
    "                 'https://www.sparknotes.com/lit/siddhartha/section2/?quickquiz_id=1763',\n",
    "                 ]\n",
    "\n",
    "adambede = ['https://www.sparknotes.com/lit/adambede/quiz/']\n",
    "huckfin = ['https://www.sparknotes.com/lit/huckfinn/quiz/']\n",
    "\n",
    "questions = get_sparknotes_quizzes_for_book(siddartha_urls)\n",
    "print(len(questions))"
   ]
  },
  {
   "cell_type": "code",
   "execution_count": 5,
   "metadata": {},
   "outputs": [
    {
     "data": {
      "text/plain": [
       "<sparknotes_parser.QuizQuestion at 0x7f9fc41fe1d0>"
      ]
     },
     "execution_count": 5,
     "metadata": {},
     "output_type": "execute_result"
    }
   ],
   "source": [
    "questions[0]"
   ]
  },
  {
   "cell_type": "code",
   "execution_count": null,
   "metadata": {},
   "outputs": [],
   "source": [
    "import csv\n",
    "import uuid\n",
    "with open('book_quizzes.csv', newline='', ) as csvfile:\n",
    "    spamreader = csv.reader(csvfile, delimiter=' ', quotechar='|')\n",
    "    for row in spamreader:\n",
    "        print(', '.join(row))"
   ]
  }
 ],
 "metadata": {
  "kernelspec": {
   "display_name": "Python 3",
   "language": "python",
   "name": "python3"
  },
  "language_info": {
   "codemirror_mode": {
    "name": "ipython",
    "version": 3
   },
   "file_extension": ".py",
   "mimetype": "text/x-python",
   "name": "python",
   "nbconvert_exporter": "python",
   "pygments_lexer": "ipython3",
   "version": "3.7.4"
  }
 },
 "nbformat": 4,
 "nbformat_minor": 2
}
