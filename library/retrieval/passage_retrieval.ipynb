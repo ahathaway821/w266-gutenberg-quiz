{
 "cells": [
  {
   "cell_type": "code",
   "execution_count": 4,
   "metadata": {},
   "outputs": [],
   "source": [
    "import tfidf_nqa_passage_retrieval as pr"
   ]
  },
  {
   "cell_type": "code",
   "execution_count": 7,
   "metadata": {},
   "outputs": [
    {
     "name": "stdout",
     "output_type": "stream",
     "text": [
      "total question pairs: 315\n",
      "skipped pairs: 3\n"
     ]
    }
   ],
   "source": [
    "document_questions = pr.get_question_answer_pairs()\n",
    "pr.get_and_write_qa_passages_as_squad(document_questions, max_stories=-1)"
   ]
  },
  {
   "cell_type": "code",
   "execution_count": null,
   "metadata": {},
   "outputs": [],
   "source": [
    "gsutil cp ./squad_document_qa_passages/train.data gs://gutenberg-qa-train-data/all.data\n",
    "gsutil cp ./squad_document_qa_passages/train.data gs://gutenberg-qa-train-data/train.data \n",
    "gsutil cp ./squad_document_qa_passages/train.data gs://gutenberg-qa-train-data/valid.data \n",
    "gsutil cp ./squad_document_qa_passages/train.data gs://gutenberg-qa-train-data/test.data "
   ]
  },
  {
   "cell_type": "code",
   "execution_count": null,
   "metadata": {},
   "outputs": [],
   "source": [
    "text = get_document_text(\"1aae28477e771b3af008ec59ce29086a1bc66776\")\n",
    "test = text.split(\"\\n\\n\")\n",
    "print(len(test))"
   ]
  }
 ],
 "metadata": {
  "kernelspec": {
   "display_name": "Python 3",
   "language": "python",
   "name": "python3"
  },
  "language_info": {
   "codemirror_mode": {
    "name": "ipython",
    "version": 3
   },
   "file_extension": ".py",
   "mimetype": "text/x-python",
   "name": "python",
   "nbconvert_exporter": "python",
   "pygments_lexer": "ipython3",
   "version": "3.7.4"
  }
 },
 "nbformat": 4,
 "nbformat_minor": 2
}
