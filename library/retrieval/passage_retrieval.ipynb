{
 "cells": [
  {
   "cell_type": "code",
   "execution_count": 2,
   "metadata": {},
   "outputs": [],
   "source": [
    "import tfidf_passage_retrieval as pr"
   ]
  },
  {
   "cell_type": "code",
   "execution_count": 10,
   "metadata": {},
   "outputs": [
    {
     "name": "stdout",
     "output_type": "stream",
     "text": [
      "total question pairs: 46556\n",
      "skipped pairs: 750\n"
     ]
    }
   ],
   "source": [
    "## Narrative QA Passage Retrieval\n",
    "is_nqa=True\n",
    "document_questions = pr.get_question_answer_pairs(is_nqa=is_nqa)\n",
    "pr.get_and_write_qa_passages_as_squad(document_questions, max_stories=-1, is_nqa=is_nqa)"
   ]
  },
  {
   "cell_type": "code",
   "execution_count": null,
   "metadata": {},
   "outputs": [],
   "source": [
    "# Google Cloud commands to copy training data into cloud storage\n",
    "gsutil cp ./nqa_squad_document_qa_passages/train.data gs://gutenberg-qa-train-data/mini_train.data \n",
    "gsutil cp ./nqa_squad_document_qa_passages/train.data gs://gutenberg-qa-train-data/all.data\n",
    "gsutil cp ./nqa_squad_document_qa_passages/train.data gs://gutenberg-qa-train-data/train.data \n",
    "gsutil cp ./nqa_squad_document_qa_passages/train.data gs://gutenberg-qa-train-data/valid.data \n",
    "gsutil cp ./nqa_squad_document_qa_passages/train.data gs://gutenberg-qa-train-data/test.data "
   ]
  },
  {
   "cell_type": "code",
   "execution_count": null,
   "metadata": {},
   "outputs": [],
   "source": []
  },
  {
   "cell_type": "code",
   "execution_count": 3,
   "metadata": {},
   "outputs": [
    {
     "name": "stdout",
     "output_type": "stream",
     "text": [
      "total question pairs: 4423\n",
      "skipped pairs: 51\n"
     ]
    }
   ],
   "source": [
    "## Sparknotes QA Passage Retrieval\n",
    "is_nqa=False\n",
    "document_questions = pr.get_question_answer_pairs(is_nqa=is_nqa)\n",
    "pr.get_and_write_qa_passages_as_squad(document_questions, max_stories=-1, is_nqa=is_nqa)"
   ]
  },
  {
   "cell_type": "code",
   "execution_count": 3,
   "metadata": {},
   "outputs": [
    {
     "ename": "SyntaxError",
     "evalue": "invalid syntax (<ipython-input-3-537529e55b81>, line 2)",
     "output_type": "error",
     "traceback": [
      "\u001b[0;36m  File \u001b[0;32m\"<ipython-input-3-537529e55b81>\"\u001b[0;36m, line \u001b[0;32m2\u001b[0m\n\u001b[0;31m    gsutil cp ./sp_squad_document_qa_passages/train.data gs://gutenberg-qa-train-data/mini_train.data\u001b[0m\n\u001b[0m            ^\u001b[0m\n\u001b[0;31mSyntaxError\u001b[0m\u001b[0;31m:\u001b[0m invalid syntax\n"
     ]
    }
   ],
   "source": [
    "# Google Cloud commands to copy training data into cloud storage\n",
    "gsutil cp ./sp_squad_document_qa_passages/train.data gs://gutenberg-qa-train-data/sp_mini_train.data \n",
    "gsutil cp ./sp_squad_document_qa_passages/train.data gs://gutenberg-qa-train-data/sp_all.data\n",
    "gsutil cp ./sp_squad_document_qa_passages/train.data gs://gutenberg-qa-train-data/sp_train.data \n",
    "gsutil cp ./sp_squad_document_qa_passages/train.data gs://gutenberg-qa-train-data/sp_valid.data \n",
    "gsutil cp ./sp_squad_document_qa_passages/train.data gs://gutenberg-qa-train-data/sp_test.data "
   ]
  }
 ],
 "metadata": {
  "kernelspec": {
   "display_name": "Python 3",
   "language": "python",
   "name": "python3"
  },
  "language_info": {
   "codemirror_mode": {
    "name": "ipython",
    "version": 3
   },
   "file_extension": ".py",
   "mimetype": "text/x-python",
   "name": "python",
   "nbconvert_exporter": "python",
   "pygments_lexer": "ipython3",
   "version": "3.7.4"
  }
 },
 "nbformat": 4,
 "nbformat_minor": 2
}
