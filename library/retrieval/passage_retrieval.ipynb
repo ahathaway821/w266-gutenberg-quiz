{
 "cells": [
  {
   "cell_type": "code",
   "execution_count": 1,
   "metadata": {},
   "outputs": [],
   "source": [
    "import tfidf_passage_retrieval as pr"
   ]
  },
  {
   "cell_type": "code",
   "execution_count": 3,
   "metadata": {},
   "outputs": [
    {
     "name": "stdout",
     "output_type": "stream",
     "text": [
      "total question pairs: 46496\n",
      "skipped pairs: 747\n"
     ]
    }
   ],
   "source": [
    "## Narrative QA Passage Retrieval\n",
    "is_nqa=True\n",
    "document_questions = pr.get_question_answer_pairs(is_nqa=is_nqa)\n",
    "pr.get_and_write_qa_passages_as_squad(document_questions, max_stories=-1, is_nqa=is_nqa)"
   ]
  },
  {
   "cell_type": "code",
   "execution_count": null,
   "metadata": {},
   "outputs": [],
   "source": [
    "# Google Cloud commands to copy training data into cloud storage\n",
    "gsutil cp ./nqa_squad_document_qa_passages/train.data gs://gutenberg-qa-train-data/mini_train.data \n",
    "gsutil cp ./nqa_squad_document_qa_passages/train.data gs://gutenberg-qa-train-data/all.data\n",
    "gsutil cp ./nqa_squad_document_qa_passages/train.data gs://gutenberg-qa-train-data/train.data \n",
    "gsutil cp ./nqa_squad_document_qa_passages/train.data gs://gutenberg-qa-train-data/valid.data \n",
    "gsutil cp ./nqa_squad_document_qa_passages/train.data gs://gutenberg-qa-train-data/test.data "
   ]
  },
  {
   "cell_type": "code",
   "execution_count": null,
   "metadata": {},
   "outputs": [],
   "source": []
  },
  {
   "cell_type": "code",
   "execution_count": 2,
   "metadata": {},
   "outputs": [
    {
     "name": "stdout",
     "output_type": "stream",
     "text": [
      "total question pairs: 4423\n",
      "skipped pairs: 51\n"
     ]
    }
   ],
   "source": [
    "## Sparknotes QA Passage Retrieval - Full Text\n",
    "is_nqa=False\n",
    "document_questions = pr.get_question_answer_pairs(is_nqa=is_nqa)\n",
    "pr.get_and_write_qa_passages_as_squad(document_questions, max_stories=-1, is_nqa=is_nqa)"
   ]
  },
  {
   "cell_type": "code",
   "execution_count": null,
   "metadata": {},
   "outputs": [],
   "source": [
    "# Google Cloud commands to copy training data into cloud storage\n",
    "#gsutil cp ./sp_squad_document_qa_passages/train.data gs://gutenberg-qa-train-data/sp_mini_train.data \n",
    "#gsutil cp ./sp_squad_document_qa_passages/train.data gs://gutenberg-qa-train-data/sp_all.data\n",
    "#gsutil cp ./sp_squad_document_qa_passages/train.data gs://gutenberg-qa-train-data/sp_train.data \n",
    "#gsutil cp ./sp_squad_document_qa_passages/train.data gs://gutenberg-qa-train-data/sp_valid.data \n",
    "#gsutil cp ./sp_squad_document_qa_passages/train.data gs://gutenberg-qa-train-data/sp_test.data "
   ]
  },
  {
   "cell_type": "code",
   "execution_count": 2,
   "metadata": {},
   "outputs": [
    {
     "name": "stdout",
     "output_type": "stream",
     "text": [
      "total question pairs: 46436\n",
      "skipped pairs: 1230\n"
     ]
    }
   ],
   "source": [
    "## Narrative QA Passage Retrieval - Summaries\n",
    "is_nqa=True\n",
    "document_questions = pr.get_question_answer_pairs(is_nqa=is_nqa)\n",
    "pr.get_and_write_qa_passages_as_squad(document_questions, max_stories=-1, is_nqa=is_nqa, use_summaries=True)"
   ]
  },
  {
   "cell_type": "code",
   "execution_count": null,
   "metadata": {},
   "outputs": [],
   "source": [
    "# Google Cloud commands to copy training data into cloud storage\n",
    "gsutil cp ./nqa_sum_squad_document_qa_passages/train.data gs://gutenberg-qa-train-data/nqa_sum/mini_train.data \n",
    "gsutil cp ./nqa_sum_squad_document_qa_passages/train.data gs://gutenberg-qa-train-data/nqa_sum/all.data\n",
    "gsutil cp ./nqa_sum_squad_document_qa_passages/train.data gs://gutenberg-qa-train-data/nqa_sum/train.data \n",
    "gsutil cp ./nqa_sum_squad_document_qa_passages/train.data gs://gutenberg-qa-train-data/nqa_sum/valid.data \n",
    "gsutil cp ./nqa_sum_squad_document_qa_passages/train.data gs://gutenberg-qa-train-data/nqa_sum/test.data "
   ]
  },
  {
   "cell_type": "code",
   "execution_count": null,
   "metadata": {},
   "outputs": [],
   "source": []
  }
 ],
 "metadata": {
  "kernelspec": {
   "display_name": "Python 3",
   "language": "python",
   "name": "python3"
  },
  "language_info": {
   "codemirror_mode": {
    "name": "ipython",
    "version": 3
   },
   "file_extension": ".py",
   "mimetype": "text/x-python",
   "name": "python",
   "nbconvert_exporter": "python",
   "pygments_lexer": "ipython3",
   "version": "3.7.4"
  }
 },
 "nbformat": 4,
 "nbformat_minor": 2
}
