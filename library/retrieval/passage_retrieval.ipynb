{
 "cells": [
  {
   "cell_type": "code",
   "execution_count": 1,
   "metadata": {},
   "outputs": [],
   "source": [
    "import tfidf_nqa_passage_retrieval as pr"
   ]
  },
  {
   "cell_type": "code",
   "execution_count": 10,
   "metadata": {},
   "outputs": [
    {
     "name": "stdout",
     "output_type": "stream",
     "text": [
      "total question pairs: 46556\n",
      "skipped pairs: 750\n"
     ]
    }
   ],
   "source": [
    "## Narrative QA Passage Retrieval\n",
    "is_nqa=True\n",
    "document_questions = pr.get_question_answer_pairs(is_nqa=is_nqa)\n",
    "pr.get_and_write_qa_passages_as_squad(document_questions, max_stories=-1, is_nqa=is_nqa)"
   ]
  },
  {
   "cell_type": "code",
   "execution_count": null,
   "metadata": {},
   "outputs": [],
   "source": [
    "# Google Cloud commands to copy training data into cloud storage\n",
    "gsutil cp ./nqa_squad_document_qa_passages/train.data gs://gutenberg-qa-train-data/mini_train.data \n",
    "gsutil cp ./nqa_squad_document_qa_passages/train.data gs://gutenberg-qa-train-data/all.data\n",
    "gsutil cp ./nqa_squad_document_qa_passages/train.data gs://gutenberg-qa-train-data/train.data \n",
    "gsutil cp ./nqa_squad_document_qa_passages/train.data gs://gutenberg-qa-train-data/valid.data \n",
    "gsutil cp ./nqa_squad_document_qa_passages/train.data gs://gutenberg-qa-train-data/test.data "
   ]
  },
  {
   "cell_type": "code",
   "execution_count": 2,
   "metadata": {},
   "outputs": [
    {
     "ename": "NameError",
     "evalue": "name 'get_document_text' is not defined",
     "output_type": "error",
     "traceback": [
      "\u001b[0;31m---------------------------------------------------------------------------\u001b[0m",
      "\u001b[0;31mNameError\u001b[0m                                 Traceback (most recent call last)",
      "\u001b[0;32m<ipython-input-2-595e49ccd9c5>\u001b[0m in \u001b[0;36m<module>\u001b[0;34m()\u001b[0m\n\u001b[0;32m----> 1\u001b[0;31m \u001b[0mtext\u001b[0m \u001b[0;34m=\u001b[0m \u001b[0mget_document_text\u001b[0m\u001b[0;34m(\u001b[0m\u001b[0;34m\"1aae28477e771b3af008ec59ce29086a1bc66776\"\u001b[0m\u001b[0;34m)\u001b[0m\u001b[0;34m\u001b[0m\u001b[0;34m\u001b[0m\u001b[0m\n\u001b[0m\u001b[1;32m      2\u001b[0m \u001b[0mtest\u001b[0m \u001b[0;34m=\u001b[0m \u001b[0mtext\u001b[0m\u001b[0;34m.\u001b[0m\u001b[0msplit\u001b[0m\u001b[0;34m(\u001b[0m\u001b[0;34m\"\\n\\n\"\u001b[0m\u001b[0;34m)\u001b[0m\u001b[0;34m\u001b[0m\u001b[0;34m\u001b[0m\u001b[0m\n\u001b[1;32m      3\u001b[0m \u001b[0mprint\u001b[0m\u001b[0;34m(\u001b[0m\u001b[0mlen\u001b[0m\u001b[0;34m(\u001b[0m\u001b[0mtest\u001b[0m\u001b[0;34m)\u001b[0m\u001b[0;34m)\u001b[0m\u001b[0;34m\u001b[0m\u001b[0;34m\u001b[0m\u001b[0m\n",
      "\u001b[0;31mNameError\u001b[0m: name 'get_document_text' is not defined"
     ]
    }
   ],
   "source": [
    "text = get_document_text(\"1aae28477e771b3af008ec59ce29086a1bc66776\")\n",
    "test = text.split(\"\\n\\n\")\n",
    "print(len(test))"
   ]
  },
  {
   "cell_type": "code",
   "execution_count": 2,
   "metadata": {},
   "outputs": [
    {
     "name": "stdout",
     "output_type": "stream",
     "text": [
      "total question pairs: 4423\n",
      "skipped pairs: 51\n"
     ]
    }
   ],
   "source": [
    "## Sparknotes QA Passage Retrieval\n",
    "is_nqa=False\n",
    "document_questions = pr.get_question_answer_pairs(is_nqa=is_nqa)\n",
    "pr.get_and_write_qa_passages_as_squad(document_questions, max_stories=-1, is_nqa=is_nqa)"
   ]
  },
  {
   "cell_type": "code",
   "execution_count": 3,
   "metadata": {},
   "outputs": [
    {
     "ename": "SyntaxError",
     "evalue": "invalid syntax (<ipython-input-3-537529e55b81>, line 2)",
     "output_type": "error",
     "traceback": [
      "\u001b[0;36m  File \u001b[0;32m\"<ipython-input-3-537529e55b81>\"\u001b[0;36m, line \u001b[0;32m2\u001b[0m\n\u001b[0;31m    gsutil cp ./sp_squad_document_qa_passages/train.data gs://gutenberg-qa-train-data/mini_train.data\u001b[0m\n\u001b[0m            ^\u001b[0m\n\u001b[0;31mSyntaxError\u001b[0m\u001b[0;31m:\u001b[0m invalid syntax\n"
     ]
    }
   ],
   "source": [
    "# Google Cloud commands to copy training data into cloud storage\n",
    "gsutil cp ./sp_squad_document_qa_passages/train.data gs://gutenberg-qa-train-data/mini_train.data \n",
    "gsutil cp ./sp_squad_document_qa_passages/train.data gs://gutenberg-qa-train-data/all.data\n",
    "gsutil cp ./sp_squad_document_qa_passages/train.data gs://gutenberg-qa-train-data/train.data \n",
    "gsutil cp ./sp_squad_document_qa_passages/train.data gs://gutenberg-qa-train-data/valid.data \n",
    "gsutil cp ./sp_squad_document_qa_passages/train.data gs://gutenberg-qa-train-data/test.data "
   ]
  }
 ],
 "metadata": {
  "kernelspec": {
   "display_name": "Python 3",
   "language": "python",
   "name": "python3"
  },
  "language_info": {
   "codemirror_mode": {
    "name": "ipython",
    "version": 3
   },
   "file_extension": ".py",
   "mimetype": "text/x-python",
   "name": "python",
   "nbconvert_exporter": "python",
   "pygments_lexer": "ipython3",
   "version": "3.7.4"
  }
 },
 "nbformat": 4,
 "nbformat_minor": 2
}
