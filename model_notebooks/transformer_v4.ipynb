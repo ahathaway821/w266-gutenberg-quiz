{
  "nbformat": 4,
  "nbformat_minor": 0,
  "metadata": {
    "accelerator": "GPU",
    "colab": {
      "name": "transformer_v4.ipynb",
      "provenance": [],
      "private_outputs": true,
      "collapsed_sections": [],
      "toc_visible": true,
      "machine_shape": "hm"
    },
    "kernelspec": {
      "name": "python3",
      "display_name": "Python 3"
    },
    "language_info": {
      "codemirror_mode": {
        "name": "ipython",
        "version": 3
      },
      "file_extension": ".py",
      "mimetype": "text/x-python",
      "name": "python",
      "nbconvert_exporter": "python",
      "pygments_lexer": "ipython3",
      "version": "3.7.3"
    }
  },
  "cells": [
    {
      "cell_type": "markdown",
      "metadata": {
        "colab_type": "text",
        "id": "s_qNSzzyaCbD"
      },
      "source": [
        "##### Copyright 2019 The TensorFlow Authors."
      ]
    },
    {
      "cell_type": "code",
      "metadata": {
        "cellView": "form",
        "colab_type": "code",
        "id": "jmjh290raIky",
        "colab": {}
      },
      "source": [
        "#@title Licensed under the Apache License, Version 2.0 (the \"License\");\n",
        "# you may not use this file except in compliance with the License.\n",
        "# You may obtain a copy of the License at\n",
        "#\n",
        "# https://www.apache.org/licenses/LICENSE-2.0\n",
        "#\n",
        "# Unless required by applicable law or agreed to in writing, software\n",
        "# distributed under the License is distributed on an \"AS IS\" BASIS,\n",
        "# WITHOUT WARRANTIES OR CONDITIONS OF ANY KIND, either express or implied.\n",
        "# See the License for the specific language governing permissions and\n",
        "# limitations under the License."
      ],
      "execution_count": 0,
      "outputs": []
    },
    {
      "cell_type": "code",
      "metadata": {
        "id": "As6pULDXe7nh",
        "colab_type": "code",
        "colab": {}
      },
      "source": [
        "#need to use max length and padding to set explicit dimensions"
      ],
      "execution_count": 0,
      "outputs": []
    },
    {
      "cell_type": "code",
      "metadata": {
        "colab_type": "code",
        "id": "JjJJyJTZYebt",
        "colab": {}
      },
      "source": [
        "from __future__ import absolute_import, division, print_function, unicode_literals\n",
        "\n",
        "try:\n",
        "  %tensorflow_version 2.x\n",
        "except Exception:\n",
        "  pass\n",
        "import tensorflow_datasets as tfds\n",
        "import tensorflow as tf\n",
        "\n",
        "import time\n",
        "import numpy as np\n",
        "import matplotlib.pyplot as plt"
      ],
      "execution_count": 0,
      "outputs": []
    },
    {
      "cell_type": "code",
      "metadata": {
        "id": "NI61zStm7n9i",
        "colab_type": "code",
        "colab": {}
      },
      "source": [
        "# import os\n",
        "# import pprint\n",
        "\n",
        "# if 'COLAB_TPU_ADDR' not in os.environ:\n",
        "#   print('ERROR: Not connected to a TPU runtime; please see the first cell in this notebook for instructions!')\n",
        "# else:\n",
        "#   tpu_address = 'grpc://' + os.environ['COLAB_TPU_ADDR']\n",
        "#   print ('TPU address is', tpu_address)\n",
        "\n",
        "#   #with tf.Session(tpu_address) as session:\n",
        "#   #  devices = session.list_devices()\n",
        "    \n",
        "#   #print('TPU devices:')\n",
        "#   #pprint.pprint(devices)\n",
        "\n",
        "# import tensorflow.logging"
      ],
      "execution_count": 0,
      "outputs": []
    },
    {
      "cell_type": "code",
      "metadata": {
        "id": "QIFMr_0Or3qY",
        "colab_type": "code",
        "colab": {}
      },
      "source": [
        "from sklearn.model_selection import train_test_split\n",
        "from importlib import reload\n",
        "\n",
        "BUFFER_SIZE = 20000\n",
        "BATCH_SIZE = 64\n",
        "d_model = 512"
      ],
      "execution_count": 0,
      "outputs": []
    },
    {
      "cell_type": "code",
      "metadata": {
        "id": "bFf4HrvorCst",
        "colab_type": "code",
        "colab": {}
      },
      "source": [
        "#!git clone https://github.com/ahathaway821/w266-gutenberg-quiz\n",
        "#!git -C ./w266_gutenberg_quiz reset --hard\n",
        "#!git -C ./w266_gutenberg_quiz pull origin master"
      ],
      "execution_count": 0,
      "outputs": []
    },
    {
      "cell_type": "markdown",
      "metadata": {
        "colab_type": "text",
        "id": "fd1NWMxjfsDd"
      },
      "source": [
        "## Setup input pipeline"
      ]
    },
    {
      "cell_type": "code",
      "metadata": {
        "id": "FysGOjs-rUoM",
        "colab_type": "code",
        "colab": {}
      },
      "source": [
        "from w266_gutenberg_quiz.library.utility.squad_v3 import SquADDataSetV3\n",
        "\n",
        "data_set = SquADDataSetV3(data_path=\"w266_gutenberg_quiz/data/SQuAD/train-v1.1.json\")\n",
        "\n",
        "test_size=.2\n",
        "random_state=42\n",
        "question_train, question_val, context_train, context_val, answer_train, answer_val = train_test_split(data_set.questions, \n",
        "                                                                                                      data_set.contexts, \n",
        "                                                                                                      data_set.answers, \n",
        "                                                                                                      test_size=test_size, \n",
        "                                                                                                      random_state=random_state)\n",
        "train_examples = tf.data.Dataset.from_tensor_slices((question_train, context_train, answer_train))\n",
        "val_examples = tf.data.Dataset.from_tensor_slices((question_val, context_val, answer_val))"
      ],
      "execution_count": 0,
      "outputs": []
    },
    {
      "cell_type": "code",
      "metadata": {
        "id": "AHvV4R9ChQDX",
        "colab_type": "code",
        "colab": {}
      },
      "source": [
        "print(len(data_set.answers))"
      ],
      "execution_count": 0,
      "outputs": []
    },
    {
      "cell_type": "code",
      "metadata": {
        "id": "3rx21BGMvxDi",
        "colab_type": "code",
        "colab": {}
      },
      "source": [
        "filtered_question_train = []\n",
        "filtered_question_val = []\n",
        "filtered_context_train = []\n",
        "filtered_context_val = []\n",
        "filtered_answer_train = []\n",
        "filtered_answer_val = []\n",
        "\n",
        "max_answer_char_length = 50\n",
        "max_question_char_length = 175\n",
        "max_context_char_length = 2500\n",
        "for i in range(0, len(question_train)):\n",
        "  if len(answer_train[i]) < max_answer_char_length and len(question_train[i]) < max_question_char_length and len(context_train[i]) < max_context_char_length:\n",
        "    if len(answer_train[i]) == 0:\n",
        "      print('empty')\n",
        "      print(i)\n",
        "      continue\n",
        "\n",
        "    filtered_question_train.append(question_train[i])\n",
        "    filtered_context_train.append(context_train[i])\n",
        "    filtered_answer_train.append(answer_train[i])\n",
        "\n",
        "for i in range(0, len(question_val)):\n",
        "  if len(answer_val[i]) < max_answer_char_length and len(question_val[i]) < max_question_char_length and len(context_val[i]) < max_context_char_length:\n",
        "    if len(answer_val[i]) == 0:\n",
        "      print('empty')\n",
        "      print(i)\n",
        "      continue\n",
        "    filtered_question_val.append(question_val[i])\n",
        "    filtered_context_val.append(context_val[i])\n",
        "    filtered_answer_val.append(answer_val[i])\n",
        "\n",
        "train_examples = tf.data.Dataset.from_tensor_slices((filtered_question_train, filtered_context_train, filtered_answer_train))\n",
        "val_examples = tf.data.Dataset.from_tensor_slices((filtered_question_val, filtered_context_val, filtered_answer_val))"
      ],
      "execution_count": 0,
      "outputs": []
    },
    {
      "cell_type": "code",
      "metadata": {
        "id": "YMYLSSOENwo0",
        "colab_type": "code",
        "colab": {}
      },
      "source": [
        "print(len(filtered_question_train))\n",
        "print(len(filtered_question_val))"
      ],
      "execution_count": 0,
      "outputs": []
    },
    {
      "cell_type": "code",
      "metadata": {
        "id": "oIMsGU6LYnxC",
        "colab_type": "code",
        "colab": {}
      },
      "source": [
        ""
      ],
      "execution_count": 0,
      "outputs": []
    },
    {
      "cell_type": "code",
      "metadata": {
        "id": "aKmxRcAeJJO2",
        "colab_type": "code",
        "colab": {}
      },
      "source": [
        "#elmo = hub.KerasLayer(\"https://tfhub.dev/google/elmo/3\", trainable=True)\n",
        "#embeddings = elmo(\n",
        "#    [\"the cat is on the mat\", \"dogs are in the fog\"])[\"elmo\"]"
      ],
      "execution_count": 0,
      "outputs": []
    },
    {
      "cell_type": "code",
      "metadata": {
        "id": "G7quRY6kKfQZ",
        "colab_type": "code",
        "colab": {}
      },
      "source": [
        "  # module_url = \"https://tfhub.dev/google/elmo/3\"\n",
        "  # embed = hub.KerasLayer(module_url)\n",
        "  # embeddings = embed(tf.convert_to_tensor([\"A long sentence gfhf.\", \"single-word\",\n",
        "  #                     \"http://example.com\"]))\n",
        "  # print(embeddings.shape)  #(3,128)"
      ],
      "execution_count": 0,
      "outputs": []
    },
    {
      "cell_type": "code",
      "metadata": {
        "id": "4kHH2iKRLFOu",
        "colab_type": "code",
        "colab": {}
      },
      "source": [
        ""
      ],
      "execution_count": 0,
      "outputs": []
    },
    {
      "cell_type": "markdown",
      "metadata": {
        "colab_type": "text",
        "id": "RCEKotqosGfq"
      },
      "source": [
        "Create a custom subwords tokenizer from the training dataset. "
      ]
    },
    {
      "cell_type": "code",
      "metadata": {
        "id": "0WPrMYcqs5TL",
        "colab_type": "code",
        "colab": {}
      },
      "source": [
        "# Could combine all three to have common vocab?\n",
        "# tokenizer_q = tfds.features.text.SubwordTextEncoder.build_from_corpus(\n",
        "#   (question.numpy() for question, context, answer in train_examples), target_vocab_size=2**13)\n",
        "\n",
        "# tokenizer_c = tfds.features.text.SubwordTextEncoder.build_from_corpus(\n",
        "#   ((context + \" \" + answer).numpy() for question, context, answer in train_examples), target_vocab_size=2**13)\n",
        "\n",
        "# tokenizer_a = tfds.features.text.SubwordTextEncoder.build_from_corpus(\n",
        "#   ((context + \" \" + answer).numpy() for question, context, answer in train_examples), target_vocab_size=2**13)\n",
        "\n",
        "tokenizer_all = tfds.features.text.SubwordTextEncoder.build_from_corpus(\n",
        "  ((question + \" \" + context + \" \" + answer).numpy() for question, context, answer in train_examples), target_vocab_size=2**13)\n"
      ],
      "execution_count": 0,
      "outputs": []
    },
    {
      "cell_type": "code",
      "metadata": {
        "id": "AWatZFBDucBw",
        "colab_type": "code",
        "colab": {}
      },
      "source": [
        "q_max_length = 0\n",
        "a_max_length = 0\n",
        "c_max_length = 0\n",
        "for q_lang,c_lang,a_lang in train_examples:\n",
        "  q_lang = tokenizer_all.encode(q_lang.numpy())\n",
        "  if len(q_lang) > q_max_length:\n",
        "    q_max_length = len(q_lang)\n",
        "\n",
        "  c_lang = tokenizer_all.encode(c_lang.numpy())\n",
        "  if len(c_lang) > c_max_length:\n",
        "    c_max_length = len(c_lang)\n",
        "\n",
        "\n",
        "  a_lang = tokenizer_all.encode(a_lang.numpy())\n",
        "  if len(a_lang) > a_max_length:\n",
        "    a_max_length = len(a_lang)\n",
        "\n",
        "for q_lang,c_lang,a_lang in val_examples:\n",
        "  q_lang = tokenizer_all.encode(q_lang.numpy())\n",
        "  if len(q_lang) > q_max_length:\n",
        "    q_max_length = len(q_lang)\n",
        "\n",
        "  c_lang = tokenizer_all.encode(c_lang.numpy())\n",
        "  if len(c_lang) > c_max_length:\n",
        "    c_max_length = len(c_lang)\n",
        "\n",
        "\n",
        "  a_lang = tokenizer_all.encode(a_lang.numpy())\n",
        "  if len(a_lang) > a_max_length:\n",
        "    a_max_length = len(a_lang)\n",
        "\n",
        "# Add beginning and ending padding length\n",
        "q_max_length = q_max_length + 2\n",
        "c_max_length = c_max_length + 2\n",
        "a_max_length = a_max_length + 2\n",
        "\n",
        "print(f'Max Question Length: {q_max_length}')\n",
        "print(f'Max Context Length: {c_max_length}')\n",
        "print(f'Max Answer Length: {a_max_length}')"
      ],
      "execution_count": 0,
      "outputs": []
    },
    {
      "cell_type": "markdown",
      "metadata": {
        "colab_type": "text",
        "id": "kGi4PoVakxdc"
      },
      "source": [
        "Add a start and end token to the input and target. "
      ]
    },
    {
      "cell_type": "code",
      "metadata": {
        "colab_type": "code",
        "id": "UZwnPr4R055s",
        "colab": {}
      },
      "source": [
        "def encode(q_lang, c_lang, a_lang):\n",
        "  q_lang = [tokenizer_all.vocab_size] + tokenizer_all.encode(\n",
        "      q_lang.numpy()) + [tokenizer_all.vocab_size+1]\n",
        "\n",
        "  c_lang = [tokenizer_all.vocab_size] + tokenizer_all.encode(\n",
        "      c_lang.numpy()) + [tokenizer_all.vocab_size+1]\n",
        "\n",
        "  a_lang = [tokenizer_all.vocab_size] + tokenizer_all.encode(\n",
        "      a_lang.numpy()) + [tokenizer_all.vocab_size+1]\n",
        "\n",
        "  return q_lang, c_lang, a_lang"
      ],
      "execution_count": 0,
      "outputs": []
    },
    {
      "cell_type": "code",
      "metadata": {
        "colab_type": "code",
        "id": "Mah1cS-P70Iz",
        "colab": {}
      },
      "source": [
        "def tf_encode(q,c,a):\n",
        "  return tf.py_function(encode, [q, c, a], [tf.int32, tf.int32, tf.int32])"
      ],
      "execution_count": 0,
      "outputs": []
    },
    {
      "cell_type": "code",
      "metadata": {
        "id": "0fkoaHZBvRnP",
        "colab_type": "code",
        "colab": {}
      },
      "source": [
        "train_dataset = train_examples.map(tf_encode)\n",
        "#train_dataset = train_dataset.filter(filter_max_length)\n",
        "val_dataset = val_examples.map(tf_encode)\n",
        "#val_dataset = val_dataset.filter(filter_max_length)\n",
        "\n",
        "# cache the dataset to memory to get a speedup while reading from it.\n",
        "train_dataset = train_dataset.cache()\n",
        "train_dataset = train_dataset.shuffle(BUFFER_SIZE).padded_batch(\n",
        "    BATCH_SIZE,  padded_shapes=([q_max_length], [c_max_length], [a_max_length]))\n",
        "train_dataset = train_dataset.prefetch(tf.data.experimental.AUTOTUNE)\n",
        "\n",
        "\n",
        "val_dataset = val_dataset.padded_batch(\n",
        "    BATCH_SIZE,  padded_shapes=([q_max_length], [c_max_length], [a_max_length]))\n"
      ],
      "execution_count": 0,
      "outputs": []
    },
    {
      "cell_type": "code",
      "metadata": {
        "id": "FkOnl2bCGund",
        "colab_type": "code",
        "colab": {}
      },
      "source": [
        "for q,c,a in train_dataset.take(3):\n",
        "  # print(q)\n",
        "  # print(c)\n",
        "  print(a)\n",
        "\n",
        "# for q,c,a in val_dataset.take(2):\n",
        "#   print(q)"
      ],
      "execution_count": 0,
      "outputs": []
    },
    {
      "cell_type": "code",
      "metadata": {
        "colab_type": "code",
        "id": "_fXvfYVfQr2n",
        "colab": {}
      },
      "source": [
        "q_batch, c_batch, a_batch = next(iter(val_dataset))\n",
        "q_batch, c_batch, a_batch"
      ],
      "execution_count": 0,
      "outputs": []
    },
    {
      "cell_type": "code",
      "metadata": {
        "colab_type": "code",
        "id": "WhIOZjMNKujn",
        "colab": {}
      },
      "source": [
        ""
      ],
      "execution_count": 0,
      "outputs": []
    },
    {
      "cell_type": "markdown",
      "metadata": {
        "colab_type": "text",
        "id": "nBQuibYA4n0n"
      },
      "source": [
        "## Positional encoding\n",
        "\n",
        "Since this model doesn't contain any recurrence or convolution, positional encoding is added to give the model some information about the relative position of the words in the sentence. \n",
        "\n",
        "The positional encoding vector is added to the embedding vector. Embeddings represent a token in a d-dimensional space where tokens with similar meaning will be closer to each other. But the embeddings do not encode the relative position of words in a sentence. So after adding the positional encoding, words will be closer to each other based on the *similarity of their meaning and their position in the sentence*, in the d-dimensional space.\n",
        "\n",
        "See the notebook on [positional encoding](https://github.com/tensorflow/examples/blob/master/community/en/position_encoding.ipynb) to learn more about it. The formula for calculating the positional encoding is as follows:\n",
        "\n",
        "$$\\Large{PE_{(pos, 2i)} = sin(pos / 10000^{2i / d_{model}})} $$\n",
        "$$\\Large{PE_{(pos, 2i+1)} = cos(pos / 10000^{2i / d_{model}})} $$"
      ]
    },
    {
      "cell_type": "code",
      "metadata": {
        "id": "N0UiybnSBzfT",
        "colab_type": "code",
        "colab": {}
      },
      "source": [
        "def get_angles(pos, i, d_model):\n",
        "  angle_rates = 1 / np.power(10000, (2 * (i//2)) / np.float32(d_model))\n",
        "  return pos * angle_rates"
      ],
      "execution_count": 0,
      "outputs": []
    },
    {
      "cell_type": "code",
      "metadata": {
        "colab_type": "code",
        "id": "1Rz82wEs5biZ",
        "colab": {}
      },
      "source": [
        "def positional_encoding(position, d_model):\n",
        "  angle_rads = get_angles(np.arange(position)[:, np.newaxis],\n",
        "                          np.arange(d_model)[np.newaxis, :],\n",
        "                          d_model)\n",
        "  \n",
        "  # apply sin to even indices in the array; 2i\n",
        "  angle_rads[:, 0::2] = np.sin(angle_rads[:, 0::2])\n",
        "  \n",
        "  # apply cos to odd indices in the array; 2i+1\n",
        "  angle_rads[:, 1::2] = np.cos(angle_rads[:, 1::2])\n",
        "    \n",
        "  pos_encoding = angle_rads[np.newaxis, ...]\n",
        "    \n",
        "  return tf.cast(pos_encoding, dtype=tf.float32)"
      ],
      "execution_count": 0,
      "outputs": []
    },
    {
      "cell_type": "markdown",
      "metadata": {
        "colab_type": "text",
        "id": "a_b4ou4TYqUN"
      },
      "source": [
        "## Masking"
      ]
    },
    {
      "cell_type": "markdown",
      "metadata": {
        "colab_type": "text",
        "id": "s42Uydjkv0hF"
      },
      "source": [
        "Mask all the pad tokens in the batch of sequence. It ensures that the model does not treat padding as the input. The mask indicates where pad value `0` is present: it outputs a `1` at those locations, and a `0` otherwise."
      ]
    },
    {
      "cell_type": "code",
      "metadata": {
        "colab_type": "code",
        "id": "U2i8-e1s8ti9",
        "colab": {}
      },
      "source": [
        "def create_padding_mask(seq):\n",
        "  seq = tf.cast(tf.math.equal(seq, 0), tf.float32)\n",
        "  \n",
        "  # add extra dimensions to add the padding\n",
        "  # to the attention logits.\n",
        "  return seq[:, tf.newaxis, tf.newaxis, :]  # (batch_size, 1, 1, seq_len)\n",
        "\n",
        "# def create_padding_mask(seq):\n",
        "#   seq = tf.cast(tf.math.equal(seq, 0), tf.float32)\n",
        "  \n",
        "#   # add extra dimensions to add the padding\n",
        "#   # to the attention logits.\n",
        "#   return seq[:, tf.newaxis, :]  # (batch_size, 1, seq_len)"
      ],
      "execution_count": 0,
      "outputs": []
    },
    {
      "cell_type": "markdown",
      "metadata": {
        "colab_type": "text",
        "id": "Z0hzukDBgVom"
      },
      "source": [
        "The look-ahead mask is used to mask the future tokens in a sequence. In other words, the mask indicates which entries should not be used.\n",
        "\n",
        "This means that to predict the third word, only the first and second word will be used. Similarly to predict the fourth word, only the first, second and the third word will be used and so on."
      ]
    },
    {
      "cell_type": "code",
      "metadata": {
        "colab_type": "code",
        "id": "dVxS8OPI9uI0",
        "colab": {}
      },
      "source": [
        "def create_look_ahead_mask(size):\n",
        "  mask = 1 - tf.linalg.band_part(tf.ones((size, size)), -1, 0)\n",
        "  return mask  # (seq_len, seq_len)"
      ],
      "execution_count": 0,
      "outputs": []
    },
    {
      "cell_type": "code",
      "metadata": {
        "id": "y7iEY3opXqfB",
        "colab_type": "code",
        "colab": {}
      },
      "source": [
        "def f_mask(inputs, queries=None, keys=None, type=None):\n",
        "    \"\"\"Masks paddings on keys or queries to inputs\n",
        "    inputs: 3d tensor. (N, T_q, T_k)\n",
        "    queries: 3d tensor. (N, T_q, d)\n",
        "    keys: 3d tensor. (N, T_k, d)\n",
        "    \"\"\"\n",
        "\n",
        "    padding_num = -2 ** 32 + 1\n",
        "    if type in (\"k\", \"key\", \"keys\"):\n",
        "        # Generate masks\n",
        "        masks = tf.sign(tf.reduce_sum(tf.abs(keys), axis=-1))  # (N, T_k)\n",
        "        masks = tf.expand_dims(masks, 1) # (N, 1, T_k)\n",
        "        masks = tf.tile(masks, [1, tf.shape(queries)[1], 1])  # (N, T_q, T_k)\n",
        "\n",
        "        # Apply masks to inputs\n",
        "        paddings = tf.ones_like(inputs) * padding_num\n",
        "\n",
        "        outputs = tf.where(tf.equal(masks, 0), paddings, inputs)  # (N, T_q, T_k)\n",
        "    elif type in (\"q\", \"query\", \"queries\"):\n",
        "        # Generate masks\n",
        "        masks = tf.sign(tf.reduce_sum(tf.abs(queries), axis=-1))  # (N, T_q)\n",
        "        masks = tf.expand_dims(masks, -1)  # (N, T_q, 1)\n",
        "        masks = tf.tile(masks, [1, 1, tf.shape(keys)[1]])  # (N, T_q, T_k)\n",
        "\n",
        "        # Apply masks to inputs\n",
        "        outputs = inputs*masks\n",
        "    elif type in (\"f\", \"future\", \"right\"):\n",
        "        diag_vals = tf.ones_like(inputs[0, :, :])  # (T_q, T_k)\n",
        "        tril = tf.linalg.LinearOperatorLowerTriangular(diag_vals).to_dense()  # (T_q, T_k)\n",
        "        masks = tf.tile(tf.expand_dims(tril, 0), [tf.shape(inputs)[0], 1, 1])  # (N, T_q, T_k)\n",
        "\n",
        "        paddings = tf.ones_like(masks) * padding_num\n",
        "        outputs = tf.where(tf.equal(masks, 0), paddings, inputs)\n",
        "    else:\n",
        "        print(\"Check if you entered type correctly!\")\n",
        "\n",
        "    return outputs"
      ],
      "execution_count": 0,
      "outputs": []
    },
    {
      "cell_type": "markdown",
      "metadata": {
        "colab_type": "text",
        "id": "xluDl5cXYy4y"
      },
      "source": [
        "## Scaled dot product attention"
      ]
    },
    {
      "cell_type": "markdown",
      "metadata": {
        "colab_type": "text",
        "id": "vsxEE_-Wa1gF"
      },
      "source": [
        "<img src=\"https://www.tensorflow.org/images/tutorials/transformer/scaled_attention.png\" width=\"500\" alt=\"scaled_dot_product_attention\">\n",
        "\n",
        "The attention function used by the transformer takes three inputs: Q (query), K (key), V (value). The equation used to calculate the attention weights is:\n",
        "\n",
        "$$\\Large{Attention(Q, K, V) = softmax_k(\\frac{QK^T}{\\sqrt{d_k}}) V} $$\n",
        "\n",
        "The dot-product attention is scaled by a factor of square root of the depth. This is done because for large values of depth, the dot product grows large in magnitude pushing the softmax function where it has small gradients resulting in a very hard softmax. \n",
        "\n",
        "For example, consider that `Q` and `K` have a mean of 0 and variance of 1. Their matrix multiplication will have a mean of 0 and variance of `dk`. Hence, *square root of `dk`* is used for scaling (and not any other number) because the matmul of `Q` and `K` should have a mean of 0 and variance of 1, and you get a gentler softmax.\n",
        "\n",
        "The mask is multiplied with -1e9 (close to negative infinity). This is done because the mask is summed with the scaled matrix multiplication of Q and K and is applied immediately before a softmax. The goal is to zero out these cells, and large negative inputs to softmax are near zero in the output."
      ]
    },
    {
      "cell_type": "code",
      "metadata": {
        "colab_type": "code",
        "id": "LazzUq3bJ5SH",
        "colab": {}
      },
      "source": [
        "def scaled_dot_product_attention_v1(q, k, v, mask):\n",
        "  \"\"\"Calculate the attention weights.\n",
        "  q, k, v must have matching leading dimensions.\n",
        "  k, v must have matching penultimate dimension, i.e.: seq_len_k = seq_len_v.\n",
        "  The mask has different shapes depending on its type(padding or look ahead) \n",
        "  but it must be broadcastable for addition.\n",
        "  \n",
        "  Args:\n",
        "    q: query shape == (..., seq_len_q, depth)\n",
        "    k: key shape == (..., seq_len_k, depth)\n",
        "    v: value shape == (..., seq_len_v, depth_v)\n",
        "    mask: Float tensor with shape broadcastable \n",
        "          to (..., seq_len_q, seq_len_k). Defaults to None.\n",
        "    \n",
        "  Returns:\n",
        "    output, attention_weights\n",
        "  \"\"\"\n",
        "\n",
        "  matmul_qk = tf.matmul(q, k, transpose_b=True)  # (..., seq_len_q, seq_len_k)\n",
        "  \n",
        "  # scale matmul_qk\n",
        "  dk = tf.cast(tf.shape(k)[-1], tf.float32)\n",
        "  scaled_attention_logits = matmul_qk / tf.math.sqrt(dk)\n",
        "\n",
        "  # add the mask to the scaled tensor.\n",
        "  if mask is not None:\n",
        "    scaled_attention_logits += (mask * -1e9)  \n",
        "\n",
        "  # softmax is normalized on the last axis (seq_len_k) so that the scores\n",
        "  # add up to 1.\n",
        "  attention_weights = tf.nn.softmax(scaled_attention_logits, axis=-1)  # (..., seq_len_q, seq_len_k)\n",
        "\n",
        "  output = tf.matmul(attention_weights, v)  # (..., seq_len_q, depth_v)\n",
        "\n",
        "  return output, attention_weights\n",
        "\n",
        "class MultiHeadAttention(tf.keras.layers.Layer):\n",
        "  def __init__(self, d_model, num_heads):\n",
        "    super(MultiHeadAttention, self).__init__()\n",
        "    self.num_heads = num_heads\n",
        "    self.d_model = d_model\n",
        "    \n",
        "    assert d_model % self.num_heads == 0\n",
        "    \n",
        "    self.depth = d_model // self.num_heads\n",
        "    \n",
        "    self.wq = tf.keras.layers.Dense(d_model)\n",
        "    self.wk = tf.keras.layers.Dense(d_model)\n",
        "    self.wv = tf.keras.layers.Dense(d_model)\n",
        "    \n",
        "    self.dense = tf.keras.layers.Dense(d_model)\n",
        "        \n",
        "  def split_heads(self, x, batch_size):\n",
        "    \"\"\"Split the last dimension into (num_heads, depth).\n",
        "    Transpose the result such that the shape is (batch_size, num_heads, seq_len, depth)\n",
        "    \"\"\"\n",
        "    x = tf.reshape(x, (batch_size, -1, self.num_heads, self.depth))\n",
        "    return tf.transpose(x, perm=[0, 2, 1, 3])\n",
        "    \n",
        "  def call(self, v, k, q, mask, extra=False):\n",
        "    batch_size = tf.shape(q)[0]\n",
        "    \n",
        "    q = self.wq(q)  # (batch_size, seq_len, d_model)\n",
        "    k = self.wk(k)  # (batch_size, seq_len, d_model)\n",
        "    v = self.wv(v)  # (batch_size, seq_len, d_model)\n",
        "    \n",
        "    q = self.split_heads(q, batch_size)  # (batch_size, num_heads, seq_len_q, depth)\n",
        "    k = self.split_heads(k, batch_size)  # (batch_size, num_heads, seq_len_k, depth)\n",
        "    v = self.split_heads(v, batch_size)  # (batch_size, num_heads, seq_len_v, depth)\n",
        "    \n",
        "    # scaled_attention.shape == (batch_size, num_heads, seq_len_q, depth)\n",
        "    # attention_weights.shape == (batch_size, num_heads, seq_len_q, seq_len_k)\n",
        "    scaled_attention, attention_weights = scaled_dot_product_attention_v1(\n",
        "        q, k, v, mask)\n",
        "    \n",
        "    scaled_attention = tf.transpose(scaled_attention, perm=[0, 2, 1, 3])  # (batch_size, seq_len_q, num_heads, depth)\n",
        "\n",
        "    concat_attention = tf.reshape(scaled_attention, \n",
        "                                  (batch_size, -1, self.d_model))  # (batch_size, seq_len_q, d_model)\n",
        "\n",
        "    output = self.dense(concat_attention)  # (batch_size, seq_len_q, d_model)\n",
        "        \n",
        "    return output, attention_weights"
      ],
      "execution_count": 0,
      "outputs": []
    },
    {
      "cell_type": "markdown",
      "metadata": {
        "colab_type": "text",
        "id": "FiqETnhCkoXh"
      },
      "source": [
        "As the softmax normalization is done on K, its values decide the amount of importance given to Q.\n",
        "\n",
        "The output represents the multiplication of the attention weights and the V (value) vector. This ensures that the words you want to focus on are kept as-is and the irrelevant words are flushed out."
      ]
    },
    {
      "cell_type": "code",
      "metadata": {
        "colab_type": "code",
        "id": "n90YjClyInFy",
        "colab": {}
      },
      "source": [
        "def print_out(q, k, v):\n",
        "  temp_out, temp_attn = scaled_dot_product_attention(\n",
        "      q, k, v, None)\n",
        "  print ('Attention weights are:')\n",
        "  print (temp_attn)\n",
        "  print ('Output is:')\n",
        "  print (temp_out)"
      ],
      "execution_count": 0,
      "outputs": []
    },
    {
      "cell_type": "markdown",
      "metadata": {
        "colab_type": "text",
        "id": "kmzGPEy64qmA"
      },
      "source": [
        "## Multi-head attention"
      ]
    },
    {
      "cell_type": "markdown",
      "metadata": {
        "colab_type": "text",
        "id": "fz5BMC8Kaoqo"
      },
      "source": [
        "<img src=\"https://www.tensorflow.org/images/tutorials/transformer/multi_head_attention.png\" width=\"500\" alt=\"multi-head attention\">\n",
        "\n",
        "\n",
        "Multi-head attention consists of four parts:\n",
        "*    Linear layers and split into heads.\n",
        "*    Scaled dot-product attention.\n",
        "*    Concatenation of heads.\n",
        "*    Final linear layer."
      ]
    },
    {
      "cell_type": "markdown",
      "metadata": {
        "colab_type": "text",
        "id": "JPmbr6F1C-v_"
      },
      "source": [
        "Each multi-head attention block gets three inputs; Q (query), K (key), V (value). These are put through linear (Dense) layers and split up into multiple heads. \n",
        "\n",
        "The `scaled_dot_product_attention` defined above is applied to each head (broadcasted for efficiency). An appropriate mask must be used in the attention step.  The attention output for each head is then concatenated (using `tf.transpose`, and `tf.reshape`) and put through a final `Dense` layer.\n",
        "\n",
        "Instead of one single attention head, Q, K, and V are split into multiple heads because it allows the model to jointly attend to information at different positions from different representational spaces. After the split each head has a reduced dimensionality, so the total computation cost is the same as a single head attention with full dimensionality."
      ]
    },
    {
      "cell_type": "code",
      "metadata": {
        "colab_type": "code",
        "id": "BSV3PPKsYecw",
        "colab": {}
      },
      "source": [
        ""
      ],
      "execution_count": 0,
      "outputs": []
    },
    {
      "cell_type": "code",
      "metadata": {
        "id": "OCgdRsfKReNU",
        "colab_type": "code",
        "colab": {}
      },
      "source": [
        "def scaled_dot_product_attention(Q, K, V,\n",
        "                                 num_heads,\n",
        "                                 mask,\n",
        "                                 causality=False, dropout_rate=0.,\n",
        "                                 training=True,\n",
        "                                 scope=\"scaled_dot_product_attention\"):\n",
        "    '''See 3.2.1.\n",
        "    Q: Packed queries. 3d tensor. [N, T_q, d_k].\n",
        "    K: Packed keys. 3d tensor. [N, T_k, d_k].\n",
        "    V: Packed values. 3d tensor. [N, T_k, d_v].\n",
        "    causality: If True, applies masking for future blinding\n",
        "    dropout_rate: A floating point number of [0, 1].\n",
        "    training: boolean for controlling droput\n",
        "    scope: Optional scope for `variable_scope`.\n",
        "    '''\n",
        "    dk = Q.get_shape().as_list()[-1]\n",
        "    #print('dk shape')\n",
        "    #print(dk)\n",
        "\n",
        "    #print('k shape')\n",
        "    #print(K.shape)\n",
        "\n",
        "    # dot product\n",
        "    outputs = tf.matmul(Q, tf.transpose(K, [0, 2, 1]))  # (N, T_q, T_k)\n",
        "\n",
        "    #print('outputs mha shape post dot product')\n",
        "    #print(outputs.shape)\n",
        "\n",
        "    # scale\n",
        "    outputs /= dk ** 0.5\n",
        "\n",
        "    # add the mask to the scaled tensor.\n",
        "    #if mask is not None:\n",
        "    #  outputs += (mask * -1e9) \n",
        "\n",
        "    # key masking, delete key 0\n",
        "    outputs = f_mask(outputs, Q, K, type=\"key\")\n",
        "\n",
        "    #print('outputs post mask')\n",
        "    #print(outputs.shape)\n",
        "\n",
        "    #print('outputs mha shape pre mask')\n",
        "    #print(outputs.shape)\n",
        "\n",
        "    # causality or future blinding masking\n",
        "    if causality:\n",
        "      outputs = f_mask(outputs, type=\"future\")\n",
        "    #if mask is not None:\n",
        "    #  print('output shape')\n",
        "    #  print(outputs.shape)\n",
        "    #  print('mask shape')\n",
        "    #  print(mask.shape)\n",
        "    #  outputs += (mask * -1e9)  \n",
        "\n",
        "    #print('outputs mha shape pre softmax')\n",
        "    #print(outputs.shape)\n",
        "\n",
        "    # softmax\n",
        "    attn_dists = tf.nn.softmax(tf.reduce_sum(tf.split(outputs, num_heads, axis=0), axis=0))\n",
        "    outputs = tf.nn.softmax(outputs)\n",
        "    #print('outputs mha shape')\n",
        "    #print(outputs.shape)\n",
        "    attention = tf.transpose(outputs, [0, 2, 1])\n",
        "    #tf.summary.image(\"attention\", tf.expand_dims(attention[:1], -1))\n",
        "\n",
        "    # query masking, delete query <pad>\n",
        "    outputs = f_mask(outputs, Q, K, type=\"query\")\n",
        "\n",
        "    # weighted sum (context vectors)\n",
        "    outputs = tf.matmul(outputs, V)  # (N, T_q, d_v)\n",
        "\n",
        "    return outputs, attn_dists\n",
        "\n",
        "class MultiHeadAttention_v2(tf.keras.layers.Layer):\n",
        "  def __init__(self, d_model, num_heads):\n",
        "    super(MultiHeadAttention, self).__init__()\n",
        "    self.num_heads = num_heads\n",
        "    self.d_model = d_model\n",
        "    \n",
        "    assert d_model % self.num_heads == 0\n",
        "    \n",
        "    self.depth = d_model // self.num_heads\n",
        "    \n",
        "    self.wq = tf.keras.layers.Dense(d_model)\n",
        "    self.wk = tf.keras.layers.Dense(d_model)\n",
        "    self.wv = tf.keras.layers.Dense(d_model)\n",
        "    \n",
        "    self.dense = tf.keras.layers.Dense(d_model)\n",
        "        \n",
        "  def split_heads(self, x, batch_size):\n",
        "    \"\"\"Split the last dimension into (num_heads, depth).\n",
        "    Transpose the result such that the shape is (batch_size, num_heads, seq_len, depth)\n",
        "    \"\"\"\n",
        "    x = tf.reshape(x, (batch_size, -1, self.num_heads, self.depth))\n",
        "    return tf.transpose(x, perm=[0, 2, 1, 3])\n",
        "    \n",
        "  def call(self, v, k, q, mask, causality=False):\n",
        "    batch_size = tf.shape(q)[0]\n",
        "    \n",
        "    q = self.wq(q)  # (batch_size, seq_len, d_model)\n",
        "    k = self.wk(k)  # (batch_size, seq_len, d_model)\n",
        "    v = self.wv(v)  # (batch_size, seq_len, d_model)\n",
        "    num_heads=8\n",
        "    Q_ = tf.concat(tf.split(q, num_heads, axis=2), axis=0) # (h*N, T_q, d_model/h)\n",
        "    K_ = tf.concat(tf.split(k, num_heads, axis=2), axis=0) # (h*N, T_k, d_model/h)\n",
        "    V_ = tf.concat(tf.split(v, num_heads, axis=2), axis=0) # (h*N, T_k, d_model/h)\n",
        "\n",
        "    # Attention\n",
        "    dropout_rate=.1\n",
        "    training=True\n",
        "    outputs, attn_dists = scaled_dot_product_attention(Q_, K_, V_, num_heads, mask, causality)\n",
        "\n",
        "    # Restore shape\n",
        "    outputs = tf.concat(tf.split(outputs, num_heads, axis=0), axis=2) # (N, T_q, d_model)\n",
        "    # Residual connection\n",
        "    #outputs = queries + outputs\n",
        "          \n",
        "    # Normalize\n",
        "    #outputs = ln(outputs)\n",
        " \n",
        "    return outputs, attn_dists"
      ],
      "execution_count": 0,
      "outputs": []
    },
    {
      "cell_type": "markdown",
      "metadata": {
        "colab_type": "text",
        "id": "RdDqGayx67vv"
      },
      "source": [
        "## Point wise feed forward network"
      ]
    },
    {
      "cell_type": "markdown",
      "metadata": {
        "colab_type": "text",
        "id": "gBqzJXGfHK3X"
      },
      "source": [
        "Point wise feed forward network consists of two fully-connected layers with a ReLU activation in between."
      ]
    },
    {
      "cell_type": "code",
      "metadata": {
        "colab_type": "code",
        "id": "ET7xLt0yCT6Z",
        "colab": {}
      },
      "source": [
        "def point_wise_feed_forward_network(d_model, dff):\n",
        "  return tf.keras.Sequential([\n",
        "      tf.keras.layers.Dense(dff, activation='relu'),  # (batch_size, seq_len, dff)\n",
        "      tf.keras.layers.Dense(d_model)  # (batch_size, seq_len, d_model)\n",
        "  ])"
      ],
      "execution_count": 0,
      "outputs": []
    },
    {
      "cell_type": "markdown",
      "metadata": {
        "id": "50TKZQMXP8h-",
        "colab_type": "text"
      },
      "source": [
        "## Elmo Embedding\n"
      ]
    },
    {
      "cell_type": "code",
      "metadata": {
        "id": "4VvZoFU7P7Xf",
        "colab_type": "code",
        "colab": {}
      },
      "source": [
        "\n",
        "#import hub\n",
        "import tensorflow_hub as hub\n",
        "\n",
        "\n",
        "class ElmoEmbeddingLayer(tf.keras.layers.Layer):\n",
        "  def __init__(self, **kwargs):\n",
        "    self.dimensions = 1024\n",
        "    self.trainable = True\n",
        "    super(ElmoEmbeddingLayer, self).__init__(**kwargs)\n",
        "\n",
        "  def build(self, input_shape):\n",
        "    self.elmo = hub.Module('https://tfhub.dev/google/elmo/2', trainable=self.trainable, name=\"{}_module\".format(self.name))\n",
        "    self.trainable_weights += K.tf.trainable_variables(scope=\"^{}_module/.*\".format(self.name))\n",
        "    super(ElmoEmbeddingLayer, self).build(input_shape)\n",
        "  def call(self, x, mask=None):\n",
        "    result = self.elmo(K.squeeze(K.cast(x, tf.string), axis=1),\n",
        "                  as_dict=True,\n",
        "                  signature='default',\n",
        "                  )['default']\n",
        "    return result\n",
        "  def compute_mask(self, inputs, mask=None):\n",
        "          return K.not_equal(inputs, '--PAD--')\n",
        "  def compute_output_shape(self, input_shape):\n",
        "          return (input_shape[0], self.dimensions)"
      ],
      "execution_count": 0,
      "outputs": []
    },
    {
      "cell_type": "code",
      "metadata": {
        "id": "LIt-mazLGX5D",
        "colab_type": "code",
        "colab": {}
      },
      "source": [
        "elmo_embed_layer = hub.KerasLayer('https://tfhub.dev/google/elmo/2')"
      ],
      "execution_count": 0,
      "outputs": []
    },
    {
      "cell_type": "markdown",
      "metadata": {
        "colab_type": "text",
        "id": "7e7hKcxn6-zd"
      },
      "source": [
        "## Encoder and decoder"
      ]
    },
    {
      "cell_type": "markdown",
      "metadata": {
        "colab_type": "text",
        "id": "yScbC0MUH8dS"
      },
      "source": [
        "<img src=\"https://www.tensorflow.org/images/tutorials/transformer/transformer.png\" width=\"600\" alt=\"transformer\">"
      ]
    },
    {
      "cell_type": "markdown",
      "metadata": {
        "colab_type": "text",
        "id": "MfYJG-Kvgwy2"
      },
      "source": [
        "The transformer model follows the same general pattern as a standard [sequence to sequence with attention model](nmt_with_attention.ipynb). \n",
        "\n",
        "* The input sentence is passed through `N` encoder layers that generates an output for each word/token in the sequence.\n",
        "* The decoder attends on the encoder's output and its own input (self-attention) to predict the next word. "
      ]
    },
    {
      "cell_type": "markdown",
      "metadata": {
        "colab_type": "text",
        "id": "QFv-FNYUmvpn"
      },
      "source": [
        "### Encoder layer\n",
        "\n",
        "Each encoder layer consists of sublayers:\n",
        "\n",
        "1.   Multi-head attention (with padding mask) \n",
        "2.    Point wise feed forward networks. \n",
        "\n",
        "Each of these sublayers has a residual connection around it followed by a layer normalization. Residual connections help in avoiding the vanishing gradient problem in deep networks.\n",
        "\n",
        "The output of each sublayer is `LayerNorm(x + Sublayer(x))`. The normalization is done on the `d_model` (last) axis. There are N encoder layers in the transformer."
      ]
    },
    {
      "cell_type": "code",
      "metadata": {
        "colab_type": "code",
        "id": "ncyS-Ms3i2x_",
        "colab": {}
      },
      "source": [
        "class EncoderLayer(tf.keras.layers.Layer):\n",
        "  def __init__(self, d_model, num_heads, dff, rate=0.1):\n",
        "    super(EncoderLayer, self).__init__()\n",
        "\n",
        "    self.mha = MultiHeadAttention(d_model, num_heads)\n",
        "    self.ffn = point_wise_feed_forward_network(d_model, dff)\n",
        "\n",
        "    self.layernorm1 = tf.keras.layers.LayerNormalization(epsilon=1e-6)\n",
        "    self.layernorm2 = tf.keras.layers.LayerNormalization(epsilon=1e-6)\n",
        "    \n",
        "    self.dropout1 = tf.keras.layers.Dropout(rate)\n",
        "    self.dropout2 = tf.keras.layers.Dropout(rate)\n",
        "    \n",
        "  def call(self, x, training, mask):\n",
        "    attn_output, att_weights = self.mha(x, x, x, mask)  # (batch_size, input_seq_len, d_model)\n",
        "    attn_output = self.dropout1(attn_output, training=training)\n",
        "    out1 = self.layernorm1(x + attn_output)  # (batch_size, input_seq_len, d_model)\n",
        "    \n",
        "    ffn_output = self.ffn(out1)  # (batch_size, input_seq_len, d_model)\n",
        "    ffn_output = self.dropout2(ffn_output, training=training)\n",
        "    out2 = self.layernorm2(out1 + ffn_output)  # (batch_size, input_seq_len, d_model)\n",
        "    \n",
        "    return out2, att_weights"
      ],
      "execution_count": 0,
      "outputs": []
    },
    {
      "cell_type": "code",
      "metadata": {
        "colab_type": "code",
        "id": "AzZRXdO0mI48",
        "colab": {}
      },
      "source": [
        "sample_encoder_layer = EncoderLayer(512, 8, 2048)\n",
        "\n",
        "sample_encoder_layer_output = sample_encoder_layer(\n",
        "    tf.random.uniform((64, 43, 512)), False, None)\n",
        "\n",
        "print(sample_encoder_layer_output[0].shape)  # (batch_size, input_seq_len, d_model)\n",
        "print(sample_encoder_layer_output[1].shape)\n"
      ],
      "execution_count": 0,
      "outputs": []
    },
    {
      "cell_type": "markdown",
      "metadata": {
        "colab_type": "text",
        "id": "6LO_48Owmx_o"
      },
      "source": [
        "### Decoder layer\n",
        "\n",
        "Each decoder layer consists of sublayers:\n",
        "\n",
        "1.   Masked multi-head attention (with look ahead mask and padding mask)\n",
        "2.   Multi-head attention (with padding mask). V (value) and K (key) receive the *encoder output* as inputs. Q (query) receives the *output from the masked multi-head attention sublayer.*\n",
        "3.   Point wise feed forward networks\n",
        "\n",
        "Each of these sublayers has a residual connection around it followed by a layer normalization. The output of each sublayer is `LayerNorm(x + Sublayer(x))`. The normalization is done on the `d_model` (last) axis.\n",
        "\n",
        "There are N decoder layers in the transformer.\n",
        "\n",
        "As Q receives the output from decoder's first attention block, and K receives the encoder output, the attention weights represent the importance given to the decoder's input based on the encoder's output. In other words, the decoder predicts the next word by looking at the encoder output and self-attending to its own output. See the demonstration above in the scaled dot product attention section."
      ]
    },
    {
      "cell_type": "code",
      "metadata": {
        "colab_type": "code",
        "id": "9SoX0-vd1hue",
        "colab": {}
      },
      "source": [
        "class DecoderLayer(tf.keras.layers.Layer):\n",
        "  def __init__(self, d_model, num_heads, dff, rate=0.1):\n",
        "    super(DecoderLayer, self).__init__()\n",
        "\n",
        "    self.mha1 = MultiHeadAttention(d_model, num_heads)\n",
        "    self.mha2 = MultiHeadAttention(d_model, num_heads)\n",
        "\n",
        "    self.ffn = point_wise_feed_forward_network(d_model, dff)\n",
        " \n",
        "    self.layernorm1 = tf.keras.layers.LayerNormalization(epsilon=1e-6)\n",
        "    self.layernorm2 = tf.keras.layers.LayerNormalization(epsilon=1e-6)\n",
        "    self.layernorm3 = tf.keras.layers.LayerNormalization(epsilon=1e-6)\n",
        "    \n",
        "    self.dropout1 = tf.keras.layers.Dropout(rate)\n",
        "    self.dropout2 = tf.keras.layers.Dropout(rate)\n",
        "    self.dropout3 = tf.keras.layers.Dropout(rate)\n",
        "    \n",
        "    \n",
        "  def call(self, x, enc_output, training, \n",
        "           look_ahead_mask, padding_mask):\n",
        "    # enc_output.shape == (batch_size, input_seq_len, d_model)\n",
        "\n",
        "    attn1, attn_weights_block1 = self.mha1(x, x, x, look_ahead_mask, True)  # (batch_size, target_seq_len, d_model)\n",
        "    #print('attn1 shape')\n",
        "    #print(attn1.shape)\n",
        "    attn1 = self.dropout1(attn1, training=training)\n",
        "    out1 = self.layernorm1(attn1 + x)\n",
        "    \n",
        "    \n",
        "    attn2, attn_weights_block2 = self.mha2(enc_output, enc_output, out1, padding_mask)  # (batch_size, target_seq_len, d_model)\n",
        "    attn2 = self.dropout2(attn2, training=training)\n",
        "    out2 = self.layernorm2(attn2 + out1)  # (batch_size, target_seq_len, d_model)\n",
        "    \n",
        "    #print('weight block2 decoder layer')\n",
        "    #print(attn_weights_block2.shape)\n",
        "\n",
        "    ffn_output = self.ffn(out2)  # (batch_size, target_seq_len, d_model)\n",
        "    ffn_output = self.dropout3(ffn_output, training=training)\n",
        "    out3 = self.layernorm3(ffn_output + out2)  # (batch_size, target_seq_len, d_model)\n",
        "    \n",
        "    return out3, attn_weights_block1, attn_weights_block2, attn2"
      ],
      "execution_count": 0,
      "outputs": []
    },
    {
      "cell_type": "code",
      "metadata": {
        "colab_type": "code",
        "id": "Ne2Bqx8k71l0",
        "colab": {}
      },
      "source": [
        "sample_decoder_layer = DecoderLayer(512, 8, 2048)\n",
        "\n",
        "sample_decoder_layer_output, _, _, concat_att = sample_decoder_layer(\n",
        "    tf.random.uniform((64, 50, 512)), sample_encoder_layer_output[0], \n",
        "    False, None, None)\n",
        "\n",
        "sample_decoder_layer_output.shape  # (batch_size, target_seq_len, d_model)"
      ],
      "execution_count": 0,
      "outputs": []
    },
    {
      "cell_type": "code",
      "metadata": {
        "id": "OyI9LPSTw9hC",
        "colab_type": "code",
        "colab": {}
      },
      "source": [
        "concat_att"
      ],
      "execution_count": 0,
      "outputs": []
    },
    {
      "cell_type": "markdown",
      "metadata": {
        "colab_type": "text",
        "id": "SE1H51Ajm0q1"
      },
      "source": [
        "### Encoder\n",
        "\n",
        "The `Encoder` consists of:\n",
        "1.   Input Embedding\n",
        "2.   Positional Encoding\n",
        "3.   N encoder layers\n",
        "\n",
        "The input is put through an embedding which is summed with the positional encoding. The output of this summation is the input to the encoder layers. The output of the encoder is the input to the decoder."
      ]
    },
    {
      "cell_type": "code",
      "metadata": {
        "id": "HV2C8ijY0YTL",
        "colab_type": "code",
        "colab": {}
      },
      "source": [
        "embeddingLayer = tf.keras.layers.Embedding(tokenizer_all.vocab_size + 2, d_model)"
      ],
      "execution_count": 0,
      "outputs": []
    },
    {
      "cell_type": "code",
      "metadata": {
        "id": "s9tvhyxJS0Sw",
        "colab_type": "code",
        "colab": {}
      },
      "source": [
        "class Encoder_QA(tf.keras.layers.Layer):\n",
        "  def __init__(self, num_layers, d_model, num_heads, dff, vocab_size,\n",
        "               q_maximum_position_encoding, c_maximum_position_encoding, rate=0.1):\n",
        "    super(Encoder_QA, self).__init__()\n",
        "\n",
        "    self.d_model = d_model\n",
        "    self.num_layers = num_layers\n",
        "    \n",
        "    #self.q_input = tf.keras.layers.Input(shape=(1,), dtype=tf.string)\n",
        "    #self.q_embedding = ElmoEmbeddingLayer()\n",
        "    #self.q_embedding = tf.keras.layers.Embedding(vocab_size, d_model)\n",
        "\n",
        "    self.q_pos_encoding = positional_encoding(q_maximum_position_encoding, \n",
        "                                            self.d_model)\n",
        "    \n",
        "    #self.c_input = tf.keras.layers.Input(shape=(1,), dtype=tf.string)\n",
        "    #self.q_embedding = ElmoEmbeddingLayer()\n",
        "    #self.q_embedding.build(self.d_model)\n",
        "    #self.q_embedding = elmo_embed_layer\n",
        "    #self.c_embedding = tf.keras.layers.Embedding(vocab_size, d_model)\n",
        "    self.c_pos_encoding = positional_encoding(c_maximum_position_encoding, \n",
        "                                            self.d_model)\n",
        "    \n",
        "    self.q_enc_layers = [EncoderLayer(d_model, num_heads, dff, rate) \n",
        "                       for _ in range(num_layers)]\n",
        "    self.c_enc_layers = [EncoderLayer(d_model, num_heads, dff, rate) \n",
        "                       for _ in range(num_layers)]\n",
        "  \n",
        "    self.dropout = tf.keras.layers.Dropout(rate)\n",
        "        \n",
        "  def call(self, q, c, training, q_mask, c_mask):\n",
        "\n",
        "    q_seq_len = tf.shape(q)[1]\n",
        "    c_seq_len = tf.shape(c)[1]\n",
        "    \n",
        "    #QUESTION\n",
        "    # adding embedding and position encoding.\n",
        "    #q = self.q_input(q)\n",
        "    #q = self.q_embedding(q)  # (batch_size, input_seq_len, d_model)\n",
        "    q = embeddingLayer(q)\n",
        "    q *= tf.math.sqrt(tf.cast(self.d_model, tf.float32))\n",
        "    q += self.q_pos_encoding[:, :q_seq_len, :]\n",
        "\n",
        "    q = self.dropout(q, training=training)\n",
        "    \n",
        "    for i in range(self.num_layers):\n",
        "      q, q_concat_att = self.q_enc_layers[i](q, training, q_mask)\n",
        "\n",
        "    #CONTEXT\n",
        "    # adding embedding and position encoding.\n",
        "    #c = self.c_input(c)\n",
        "    c = embeddingLayer(c)  # (batch_size, input_seq_len, d_model)\n",
        "    c *= tf.math.sqrt(tf.cast(self.d_model, tf.float32))\n",
        "    c += self.c_pos_encoding[:, :c_seq_len, :]\n",
        "\n",
        "    c = self.dropout(c, training=training)\n",
        "    \n",
        "    for i in range(self.num_layers):\n",
        "      c, c_concat_att  = self.c_enc_layers[i](c, training, c_mask)\n",
        "    \n",
        "    return q, c, q_concat_att, c_concat_att  # (batch_size, input_seq_len, d_model)"
      ],
      "execution_count": 0,
      "outputs": []
    },
    {
      "cell_type": "code",
      "metadata": {
        "colab_type": "code",
        "id": "8QG9nueFQKXx",
        "colab": {}
      },
      "source": [
        "sample_encoder = Encoder_QA(num_layers=2, d_model=512, num_heads=8, \n",
        "                         dff=2048, vocab_size=8500,\n",
        "                         q_maximum_position_encoding=10000, c_maximum_position_encoding=10000)\n",
        "enc_temp_input = tf.random.uniform((64, 62), dtype=tf.int32, minval=0, maxval=200)\n",
        "enc_temp_input_2 = tf.random.uniform((64, 100), dtype=tf.int32, minval=0, maxval=200)\n",
        "\n",
        "sample_encoder_output = sample_encoder(enc_temp_input, enc_temp_input_2, training=False, q_mask=None, c_mask=None)\n",
        "\n",
        "print (sample_encoder_output[0].shape)  # (batch_size, input_seq_len, d_model)\n",
        "print (sample_encoder_output[1].shape)  # (batch_size, input_seq_len, d_model)"
      ],
      "execution_count": 0,
      "outputs": []
    },
    {
      "cell_type": "code",
      "metadata": {
        "id": "nCn16gjulmO8",
        "colab_type": "code",
        "colab": {}
      },
      "source": [
        ""
      ],
      "execution_count": 0,
      "outputs": []
    },
    {
      "cell_type": "markdown",
      "metadata": {
        "colab_type": "text",
        "id": "p-uO6ls8m2O5"
      },
      "source": [
        "### Decoder"
      ]
    },
    {
      "cell_type": "markdown",
      "metadata": {
        "colab_type": "text",
        "id": "ZtT7PKzrXkNr"
      },
      "source": [
        " The `Decoder` consists of:\n",
        "1.   Output Embedding\n",
        "2.   Positional Encoding\n",
        "3.   N decoder layers\n",
        "\n",
        "The target is put through an embedding which is summed with the positional encoding. The output of this summation is the input to the decoder layers. The output of the decoder is the input to the final linear layer."
      ]
    },
    {
      "cell_type": "code",
      "metadata": {
        "id": "mRa8cNImLC-d",
        "colab_type": "code",
        "colab": {}
      },
      "source": [
        "def calc_final_dist(x, gens, vocab_dists, attn_dists, vocab_size):\n",
        "    \"\"\"Calculate the final distribution, for the pointer-generator model\n",
        "\n",
        "    Args:\n",
        "      x: encoder input which contain oov number\n",
        "      gens: the generation, choose vocab from article or vocab\n",
        "      vocab_dists: The vocabulary distributions. List length max_dec_steps of (batch_size, vsize) arrays.\n",
        "                    The words are in the order they appear in the vocabulary file.\n",
        "      attn_dists: The attention distributions. List length max_dec_steps of (batch_size, attn_len) arrays\n",
        "\n",
        "    Returns:\n",
        "      final_dists: The final distributions. List length max_dec_steps of (batch_size, extended_vsize) arrays.\n",
        "    \"\"\"\n",
        "\n",
        "    # Multiply vocab dists by p_gen and attention dists by (1-p_gen)\n",
        "    #print('vocab dist shape: List length max_dec_steps of (batch_size, vsize)')\n",
        "    #print(vocab_dists.shape)\n",
        "\n",
        "    #print('att dist shape: List length max_dec_steps of (batch_size, attn_len) arrays')\n",
        "    #print(attn_dists.shape)\n",
        "\n",
        "    #print('x shape')\n",
        "    #print(x.shape)\n",
        "\n",
        "    vocab_dists = gens * vocab_dists\n",
        "    attn_dists = (1-gens) * attn_dists\n",
        "\n",
        "    batch_size = tf.shape(attn_dists)[0]\n",
        "    dec_t = tf.shape(attn_dists)[1]\n",
        "    attn_len = tf.shape(attn_dists)[2]\n",
        "\n",
        "    dec = tf.range(0, limit=dec_t) # [dec]\n",
        "    dec = tf.expand_dims(dec, axis=-1) # [dec, 1]\n",
        "    dec = tf.tile(dec, [1, attn_len]) # [dec, atten_len]\n",
        "    #print('[dec, atten_len]')\n",
        "    #print(dec.shape)\n",
        "    dec = tf.expand_dims(dec, axis=0) # [1, dec, atten_len]\n",
        "    #print('[1, dec, atten_len]')\n",
        "    #print(dec.shape)\n",
        "    dec = tf.tile(dec, [batch_size, 1, 1]) # [batch_size, dec, atten_len]\n",
        "\n",
        "    x = tf.expand_dims(x, axis=1) # [batch_size, 1, atten_len]\n",
        "    #print('new x shape: [batch_size, 1, atten_len]')\n",
        "    #print(x.shape)\n",
        "    x = tf.tile(x, [1, dec_t, 1]) # [batch_size, dec, atten_len]\n",
        "    #print('last x shape: [batch_size, dec, atten_len]')\n",
        "    #print(x.shape)\n",
        "    x = tf.stack([dec, x], axis=3)\n",
        "\n",
        "    attn_dists_projected = tf.map_fn(fn=lambda y: tf.scatter_nd(y[0], y[1], [dec_t, vocab_size]),\n",
        "                                      elems=(x, attn_dists), dtype=tf.float32)\n",
        "\n",
        "    final_dists = attn_dists_projected + vocab_dists\n",
        "\n",
        "    return final_dists"
      ],
      "execution_count": 0,
      "outputs": []
    },
    {
      "cell_type": "code",
      "metadata": {
        "id": "PApG6s60eInu",
        "colab_type": "code",
        "colab": {}
      },
      "source": [
        "class Decoder_QA(tf.keras.layers.Layer):\n",
        "  def __init__(self, num_layers, d_model, num_heads, dff, target_vocab_size,\n",
        "               maximum_position_encoding, rate=0.1):\n",
        "    super(Decoder_QA, self).__init__()\n",
        "\n",
        "    self.d_model = d_model\n",
        "    self.num_layers = num_layers\n",
        "    self.vocab_size = target_vocab_size\n",
        "    \n",
        "    #self.dec_input = tf.keras.layers.Input(shape=(1,), dtype=tf.string)(self.d_model)\n",
        "    #self.embedding = ElmoEmbeddingLayer()(dec_input, se.fd_model)\n",
        "\n",
        "    #self.embedding = tf.keras.layers.Embedding(target_vocab_size, d_model)\n",
        "    self.pos_encoding = positional_encoding(maximum_position_encoding, d_model)\n",
        "    \n",
        "    self.dec_layers_q = [DecoderLayer(d_model, num_heads, dff, rate) \n",
        "                       for _ in range(num_layers)]\n",
        "    self.dec_layers_c = [DecoderLayer(d_model, num_heads, dff, rate) \n",
        "                       for _ in range(num_layers)]\n",
        "    self.dropout = tf.keras.layers.Dropout(rate)\n",
        "\n",
        "    self.gen_layer = tf.keras.layers.Dense(1, activation=tf.sigmoid, trainable=True, use_bias=False)\n",
        "\n",
        "  #enc_output[0] = question\n",
        "  #enc_output[1] = context\n",
        "  def call(self, x, enc_output, enc_input, training, \n",
        "           look_ahead_mask, q_padding_mask, c_padding_mask):\n",
        "\n",
        "    seq_len = tf.shape(x)[1]\n",
        "    attention_weights = {}\n",
        "    \n",
        "    x = embeddingLayer(x)  # (batch_size, target_seq_len, d_model)\n",
        "    x *= tf.math.sqrt(tf.cast(self.d_model, tf.float32))\n",
        "    x += self.pos_encoding[:, :seq_len, :]\n",
        "    \n",
        "    before_x = x\n",
        "\n",
        "    x = self.dropout(x, training=training)\n",
        "\n",
        "    #print('enc output context shape')\n",
        "    #print(enc_output[1].shape)\n",
        "\n",
        "    for i in range(self.num_layers):\n",
        "      # Query encoder ouput\n",
        "      x, block1, block2, _ = self.dec_layers_q[i](x, enc_output[0], training,\n",
        "                                             look_ahead_mask, q_padding_mask)\n",
        "      #print('q block1 shape')\n",
        "      #print(block1.shape)\n",
        "      \n",
        "      #print('q block2 shape')\n",
        "      #print(block2.shape)\n",
        "      \n",
        "      attention_weights['decoder_layer{}_block1'.format(i+1)] = block1\n",
        "      attention_weights['decoder_layer{}_block2'.format(i+1)] = block2\n",
        "\n",
        "      # Context encoder input\n",
        "      x, block1, block2, concat_att = self.dec_layers_c[i](x, enc_output[1], training,\n",
        "                                             look_ahead_mask, c_padding_mask)\n",
        "      #print('concat shape')\n",
        "      #print(concat_att.shape)\n",
        "      attention_weights['decoder_layer{}_block1'.format(i+1)] = block1\n",
        "      attention_weights['decoder_layer{}_block2'.format(i+1)] = block2\n",
        "    \n",
        "    #print('block1 shape')\n",
        "    #print(block1.shape)\n",
        "\n",
        "    #print('block2 shape')\n",
        "    #print(block2.shape)\n",
        "    #print(embeddingLayer.output_shape)\n",
        "\n",
        "    #########PGEN###########\n",
        "    # weights = tf.transpose(embeddingLayer.weights[0]) # (d_model, vocab_size)\n",
        "    # logits = tf.einsum('ntd,dk->ntk', x, weights) # (N, T2, vocab_size)\n",
        "\n",
        "    # gens = self.gen_layer(tf.concat([before_x, x, block2], axis=-1))\n",
        "    # logits = tf.nn.softmax(logits)\n",
        "    # logits = calc_final_dist(enc_input, gens, logits, block2, self.vocab_size)\n",
        "    ####################\n",
        "\n",
        "    # x.shape == (batch_size, target_seq_len, d_model)\n",
        "    return x, attention_weights, block2"
      ],
      "execution_count": 0,
      "outputs": []
    },
    {
      "cell_type": "code",
      "metadata": {
        "colab_type": "code",
        "id": "a1jXoAMRZyvu",
        "colab": {}
      },
      "source": [
        "sample_decoder = Decoder_QA(num_layers=2, d_model=512, num_heads=8, \n",
        "                         dff=2048, target_vocab_size=tokenizer_all.vocab_size +2 ,\n",
        "                         maximum_position_encoding=5000)\n",
        "\n",
        "temp_input = tf.random.uniform((64, 26), dtype=tf.int32, minval=0, maxval=200)\n",
        "\n",
        "output, attn, concat_att = sample_decoder(temp_input, \n",
        "                              enc_output=sample_encoder_output, \n",
        "                              enc_input=enc_temp_input_2, \n",
        "                              training=False,\n",
        "                              look_ahead_mask=None, \n",
        "                              q_padding_mask=None,\n",
        "                              c_padding_mask=None)\n",
        "\n",
        "output.shape, attn['decoder_layer2_block2'].shape\n",
        "\n",
        "# Currently trying to align encoder input shape"
      ],
      "execution_count": 0,
      "outputs": []
    },
    {
      "cell_type": "code",
      "metadata": {
        "id": "JyJPPesPuhr-",
        "colab_type": "code",
        "colab": {}
      },
      "source": [
        ""
      ],
      "execution_count": 0,
      "outputs": []
    },
    {
      "cell_type": "markdown",
      "metadata": {
        "colab_type": "text",
        "id": "y54xnJnuYgJ7"
      },
      "source": [
        "## Create the Transformer"
      ]
    },
    {
      "cell_type": "markdown",
      "metadata": {
        "colab_type": "text",
        "id": "uERO1y54cOKq"
      },
      "source": [
        "Transformer consists of the encoder, decoder and a final linear layer. The output of the decoder is the input to the linear layer and its output is returned."
      ]
    },
    {
      "cell_type": "code",
      "metadata": {
        "colab_type": "code",
        "id": "PED3bIpOYkBu",
        "colab": {}
      },
      "source": [
        "class Transformer(tf.keras.Model):\n",
        "  def __init__(self, num_layers, d_model, num_heads, dff, vocab_size,\n",
        "                  pe_input_q, pe_input_c, pe_target, rate=0.1):\n",
        "    super(Transformer, self).__init__()\n",
        "\n",
        "    self.encoder = Encoder_QA(num_layers, d_model, num_heads, dff, \n",
        "                           vocab_size, pe_input_q, pe_input_c, rate)\n",
        "\n",
        "    self.decoder = Decoder_QA(num_layers, d_model, num_heads, dff, \n",
        "                           vocab_size, pe_target, rate)\n",
        "\n",
        "    self.final_layer = tf.keras.layers.Dense(vocab_size)\n",
        "    \n",
        "  def call(self, q, c, tar, training, q_enc_padding_mask, c_enc_padding_mask,\n",
        "           look_ahead_mask, q_dec_padding_mask, c_dec_padding_mask):\n",
        "\n",
        "    enc_output = self.encoder(q, c, training, q_enc_padding_mask, c_enc_padding_mask)  # (batch_size, inp_seq_len, d_model)\n",
        "    \n",
        "    # dec_output.shape == (batch_size, tar_seq_len, d_model)\n",
        "    dec_output, attention_weights, concat_att = self.decoder(\n",
        "        tar, enc_output, c, training, look_ahead_mask, q_dec_padding_mask, c_dec_padding_mask)\n",
        "\n",
        "    final_output = self.final_layer(dec_output)  # (batch_size, tar_seq_len, target_vocab_size)\n",
        "    #final_context_output = self.final_context_layer(concat_att) # (batch_size, tar_seq_len, c_vocab_size)\n",
        "\n",
        "    return final_output, attention_weights"
      ],
      "execution_count": 0,
      "outputs": []
    },
    {
      "cell_type": "code",
      "metadata": {
        "colab_type": "code",
        "id": "tJ4fbQcIkHW1",
        "colab": {}
      },
      "source": [
        "sample_transformer = Transformer(\n",
        "    num_layers=2, d_model=512, num_heads=8, dff=2048, \n",
        "    vocab_size=tokenizer_all.vocab_size + 2, pe_input_q=10000, pe_input_c=10000, pe_target=6000)\n",
        "\n",
        "temp_q = tf.random.uniform((64, 38), dtype=tf.int32, minval=0, maxval=200)\n",
        "temp_c = tf.random.uniform((64, 38), dtype=tf.int32, minval=0, maxval=200)\n",
        "temp_target = tf.random.uniform((64, 36), dtype=tf.int32, minval=0, maxval=200)\n",
        "\n",
        "fn_out, _ = sample_transformer(temp_q, temp_c, temp_target, training=False, \n",
        "                               q_enc_padding_mask=None, \n",
        "                               c_enc_padding_mask=None,\n",
        "                               look_ahead_mask=None,\n",
        "                               q_dec_padding_mask=None,\n",
        "                               c_dec_padding_mask=None)\n",
        "\n",
        "fn_out.shape  # (batch_size, tar_seq_len, target_vocab_size)"
      ],
      "execution_count": 0,
      "outputs": []
    },
    {
      "cell_type": "code",
      "metadata": {
        "id": "SkzlKSNwA2xf",
        "colab_type": "code",
        "colab": {}
      },
      "source": [
        ""
      ],
      "execution_count": 0,
      "outputs": []
    },
    {
      "cell_type": "markdown",
      "metadata": {
        "colab_type": "text",
        "id": "wsINyf1VEQLC"
      },
      "source": [
        "## Set hyperparameters"
      ]
    },
    {
      "cell_type": "markdown",
      "metadata": {
        "colab_type": "text",
        "id": "zVjWCxFNcgbt"
      },
      "source": [
        "To keep this example small and relatively fast, the values for *num_layers, d_model, and dff* have been reduced. \n",
        "\n",
        "The values used in the base model of transformer were; *num_layers=6*, *d_model = 512*, *dff = 2048*. See the [paper](https://arxiv.org/abs/1706.03762) for all the other versions of the transformer.\n",
        "\n",
        "Note: By changing the values below, you can get the model that achieved state of the art on many tasks."
      ]
    },
    {
      "cell_type": "code",
      "metadata": {
        "colab_type": "code",
        "id": "lnJn5SLA2ahP",
        "colab": {}
      },
      "source": [
        "num_layers = 4\n",
        "d_model = 512\n",
        "dff = 512\n",
        "num_heads = 8\n",
        "vocab_size = tokenizer_all.vocab_size + 2\n",
        "dropout_rate = 0.1"
      ],
      "execution_count": 0,
      "outputs": []
    },
    {
      "cell_type": "markdown",
      "metadata": {
        "colab_type": "text",
        "id": "xYEGhEOtzn5W"
      },
      "source": [
        "## Optimizer"
      ]
    },
    {
      "cell_type": "markdown",
      "metadata": {
        "colab_type": "text",
        "id": "GOmWW--yP3zx"
      },
      "source": [
        "Use the Adam optimizer with a custom learning rate scheduler according to the formula in the [paper](https://arxiv.org/abs/1706.03762).\n",
        "\n",
        "$$\\Large{lrate = d_{model}^{-0.5} * min(step{\\_}num^{-0.5}, step{\\_}num * warmup{\\_}steps^{-1.5})}$$\n"
      ]
    },
    {
      "cell_type": "code",
      "metadata": {
        "colab_type": "code",
        "id": "iYQdOO1axwEI",
        "colab": {}
      },
      "source": [
        "class CustomSchedule(tf.keras.optimizers.schedules.LearningRateSchedule):\n",
        "  def __init__(self, d_model, warmup_steps=4000):\n",
        "    super(CustomSchedule, self).__init__()\n",
        "    \n",
        "    self.d_model = d_model\n",
        "    self.d_model = tf.cast(self.d_model, tf.float32)\n",
        "\n",
        "    self.warmup_steps = warmup_steps\n",
        "    \n",
        "  def __call__(self, step):\n",
        "    arg1 = tf.math.rsqrt(step)\n",
        "    arg2 = step * (self.warmup_steps ** -1.5)\n",
        "    \n",
        "    return tf.math.rsqrt(self.d_model) * tf.math.minimum(arg1, arg2)"
      ],
      "execution_count": 0,
      "outputs": []
    },
    {
      "cell_type": "code",
      "metadata": {
        "colab_type": "code",
        "id": "7r4scdulztRx",
        "colab": {}
      },
      "source": [
        "learning_rate = CustomSchedule(d_model)\n",
        "\n",
        "optimizer = tf.keras.optimizers.Adam(learning_rate, beta_1=0.9, beta_2=0.98, \n",
        "                                     epsilon=1e-9)"
      ],
      "execution_count": 0,
      "outputs": []
    },
    {
      "cell_type": "code",
      "metadata": {
        "colab_type": "code",
        "id": "f33ZCgvHpPdG",
        "colab": {}
      },
      "source": [
        "temp_learning_rate_schedule = CustomSchedule(d_model)\n",
        "\n",
        "plt.plot(temp_learning_rate_schedule(tf.range(40000, dtype=tf.float32)))\n",
        "plt.ylabel(\"Learning Rate\")\n",
        "plt.xlabel(\"Train Step\")"
      ],
      "execution_count": 0,
      "outputs": []
    },
    {
      "cell_type": "markdown",
      "metadata": {
        "colab_type": "text",
        "id": "YgkDE7hzo8r5"
      },
      "source": [
        "## Loss and metrics"
      ]
    },
    {
      "cell_type": "markdown",
      "metadata": {
        "colab_type": "text",
        "id": "oxGJtoDuYIHL"
      },
      "source": [
        "Since the target sequences are padded, it is important to apply a padding mask when calculating the loss."
      ]
    },
    {
      "cell_type": "code",
      "metadata": {
        "colab_type": "code",
        "id": "MlhsJMm0TW_B",
        "colab": {}
      },
      "source": [
        "loss_object = tf.keras.losses.SparseCategoricalCrossentropy(\n",
        "    from_logits=True, reduction='none')"
      ],
      "execution_count": 0,
      "outputs": []
    },
    {
      "cell_type": "code",
      "metadata": {
        "colab_type": "code",
        "id": "67oqVHiT0Eiu",
        "colab": {}
      },
      "source": [
        "def loss_function(real, pred):\n",
        "  mask = tf.math.logical_not(tf.math.equal(real, 0))\n",
        "  loss_ = loss_object(real, pred)\n",
        "\n",
        "  mask = tf.cast(mask, dtype=loss_.dtype)\n",
        "  loss_ *= mask\n",
        "  \n",
        "  return tf.reduce_mean(loss_)"
      ],
      "execution_count": 0,
      "outputs": []
    },
    {
      "cell_type": "code",
      "metadata": {
        "colab_type": "code",
        "id": "phlyxMnm-Tpx",
        "colab": {}
      },
      "source": [
        "train_loss = tf.keras.metrics.Mean(name='train_loss')\n",
        "train_accuracy = tf.keras.metrics.SparseCategoricalAccuracy(\n",
        "    name='train_accuracy')"
      ],
      "execution_count": 0,
      "outputs": []
    },
    {
      "cell_type": "markdown",
      "metadata": {
        "colab_type": "text",
        "id": "aeHumfr7zmMa"
      },
      "source": [
        "## Training and checkpointing"
      ]
    },
    {
      "cell_type": "code",
      "metadata": {
        "colab_type": "code",
        "id": "UiysUa--4tOU",
        "colab": {}
      },
      "source": [
        "embeddingLayer = tf.keras.layers.Embedding(tokenizer_all.vocab_size + 2, d_model)\n",
        "transformer = Transformer(num_layers, d_model, num_heads, dff,\n",
        "                          vocab_size,\n",
        "                          pe_input_q=vocab_size, \n",
        "                          pe_input_c=vocab_size,\n",
        "                          pe_target=vocab_size,\n",
        "                          rate=dropout_rate)"
      ],
      "execution_count": 0,
      "outputs": []
    },
    {
      "cell_type": "code",
      "metadata": {
        "colab_type": "code",
        "id": "ZOJUSB1T8GjM",
        "colab": {}
      },
      "source": [
        "def create_masks(q, c, a):\n",
        "  # Encoder padding mask\n",
        "  q_enc_padding_mask = create_padding_mask(q)\n",
        "  c_enc_padding_mask = create_padding_mask(c)\n",
        "\n",
        "  # Used in the 2nd attention block in the decoder.\n",
        "  # This padding mask is used to mask the encoder outputs.\n",
        "  q_dec_padding_mask = create_padding_mask(q)\n",
        "  c_dec_padding_mask = create_padding_mask(c)\n",
        "\n",
        "  # Used in the 1st attention block in the decoder.\n",
        "  # It is used to pad and mask future tokens in the input received by \n",
        "  # the decoder.\n",
        "  look_ahead_mask = create_look_ahead_mask(tf.shape(a)[1])\n",
        "  dec_target_padding_mask = create_padding_mask(a)\n",
        "  combined_mask = tf.maximum(dec_target_padding_mask, look_ahead_mask)\n",
        "\n",
        "  \n",
        "  return q_enc_padding_mask, c_enc_padding_mask, combined_mask, q_dec_padding_mask, c_dec_padding_mask"
      ],
      "execution_count": 0,
      "outputs": []
    },
    {
      "cell_type": "markdown",
      "metadata": {
        "colab_type": "text",
        "id": "Fzuf06YZp66w"
      },
      "source": [
        "Create the checkpoint path and the checkpoint manager. This will be used to save checkpoints every `n` epochs."
      ]
    },
    {
      "cell_type": "code",
      "metadata": {
        "colab_type": "code",
        "id": "hNhuYfllndLZ",
        "colab": {}
      },
      "source": [
        "checkpoint_path = \"./checkpoints/train\"\n",
        "\n",
        "ckpt = tf.train.Checkpoint(transformer=transformer,\n",
        "                           optimizer=optimizer)\n",
        "\n",
        "ckpt_manager = tf.train.CheckpointManager(ckpt, checkpoint_path, max_to_keep=5)"
      ],
      "execution_count": 0,
      "outputs": []
    },
    {
      "cell_type": "code",
      "metadata": {
        "id": "T3p6hbaWPhI7",
        "colab_type": "code",
        "colab": {}
      },
      "source": [
        "# if a checkpoint exists, restore the latest checkpoint.\n",
        "if ckpt_manager.latest_checkpoint:\n",
        "  ckpt.restore(ckpt_manager.latest_checkpoint)\n",
        "  print ('Latest checkpoint restored!!')"
      ],
      "execution_count": 0,
      "outputs": []
    },
    {
      "cell_type": "markdown",
      "metadata": {
        "colab_type": "text",
        "id": "0Di_Yaa1gf9r"
      },
      "source": [
        "The target is divided into tar_inp and tar_real. tar_inp is passed as an input to the decoder. `tar_real` is that same input shifted by 1: At each location in `tar_input`, `tar_real` contains the  next token that should be predicted.\n",
        "\n",
        "For example, `sentence` = \"SOS A lion in the jungle is sleeping EOS\"\n",
        "\n",
        "`tar_inp` =  \"SOS A lion in the jungle is sleeping\"\n",
        "\n",
        "`tar_real` = \"A lion in the jungle is sleeping EOS\"\n",
        "\n",
        "The transformer is an auto-regressive model: it makes predictions one part at a time, and uses its output so far to decide what to do next. \n",
        "\n",
        "During training this example uses teacher-forcing (like in the [text generation tutorial](./text_generation.ipynb)). Teacher forcing is passing the true output to the next time step regardless of what the model predicts at the current time step.\n",
        "\n",
        "As the transformer predicts each word, *self-attention* allows it to look at the previous words in the input sequence to better predict the next word.\n",
        "\n",
        "To prevent the model from peaking at the expected output the model uses a look-ahead mask."
      ]
    },
    {
      "cell_type": "code",
      "metadata": {
        "colab_type": "code",
        "id": "LKpoA6q1sJFj",
        "colab": {}
      },
      "source": [
        "EPOCHS = 20"
      ],
      "execution_count": 0,
      "outputs": []
    },
    {
      "cell_type": "code",
      "metadata": {
        "colab_type": "code",
        "id": "iJwmp9OE29oj",
        "colab": {}
      },
      "source": [
        "# The @tf.function trace-compiles train_step into a TF graph for faster\n",
        "# execution. The function specializes to the precise shape of the argument\n",
        "# tensors. To avoid re-tracing due to the variable sequence lengths or variable\n",
        "# batch sizes (the last batch is smaller), use input_signature to specify\n",
        "# more generic shapes.\n",
        "\n",
        "train_step_signature = [\n",
        "    tf.TensorSpec(shape=(None, q_max_length), dtype=tf.int32),\n",
        "    tf.TensorSpec(shape=(None, c_max_length), dtype=tf.int32),\n",
        "    tf.TensorSpec(shape=(None, a_max_length), dtype=tf.int32),\n",
        "]\n",
        "\n",
        "@tf.function(input_signature=train_step_signature)\n",
        "def train_step(q, c, tar):\n",
        "  tar_inp = tar[:, :-1]\n",
        "  tar_real = tar[:, 1:]\n",
        "  \n",
        "  q_enc_padding_mask, c_enc_padding_mask, combined_mask, q_dec_padding_mask, c_dec_padding_mask = create_masks(q, c, tar_inp)\n",
        "  with tf.GradientTape() as tape:\n",
        "    predictions, _ = transformer(q, c, tar_inp, \n",
        "                                 True, \n",
        "                                 q_enc_padding_mask, \n",
        "                                 c_enc_padding_mask,\n",
        "                                 combined_mask, \n",
        "                                 q_dec_padding_mask,\n",
        "                                 c_dec_padding_mask)\n",
        "  #q_enc_padding_mask, c_enc_padding_mask, combined_mask, q_dec_padding_mask, c_dec_padding_mask = create_masks(q, c, tar_inp)\n",
        "  # with tf.GradientTape() as tape:\n",
        "  #   predictions, _ = transformer(q, c, tar_inp, \n",
        "  #                                True, \n",
        "  #                                None, \n",
        "  #                                None,\n",
        "  #                                None, \n",
        "  #                                None,\n",
        "  #                                None)\n",
        "    \n",
        "    \n",
        "    loss = loss_function(tar_real, predictions)\n",
        "\n",
        "  gradients = tape.gradient(loss, transformer.trainable_variables)    \n",
        "  optimizer.apply_gradients(zip(gradients, transformer.trainable_variables))\n",
        "  \n",
        "  train_loss(loss)\n",
        "  train_accuracy(tar_real, predictions)"
      ],
      "execution_count": 0,
      "outputs": []
    },
    {
      "cell_type": "code",
      "metadata": {
        "colab_type": "code",
        "id": "bbvmaKNiznHZ",
        "colab": {}
      },
      "source": [
        "for epoch in range(EPOCHS):\n",
        "  start = time.time()\n",
        "  \n",
        "  train_loss.reset_states()\n",
        "  train_accuracy.reset_states()\n",
        "  \n",
        "  # question, context -> answer\n",
        "  for (batch, (q, c, tar)) in enumerate(train_dataset):\n",
        "    train_step(q, c, tar)\n",
        "    \n",
        "    if batch % 50 == 0:\n",
        "      print ('Epoch {} Batch {} Loss {:.4f} Accuracy {:.4f}'.format(\n",
        "          epoch + 1, batch, train_loss.result(), train_accuracy.result()))\n",
        "      \n",
        "  if (epoch + 1) % 5 == 0:\n",
        "    ckpt_save_path = ckpt_manager.save()\n",
        "    print ('Saving checkpoint for epoch {} at {}'.format(epoch+1,\n",
        "                                                         ckpt_save_path))\n",
        "    \n",
        "  print ('Epoch {} Loss {:.4f} Accuracy {:.4f}'.format(epoch + 1, \n",
        "                                                train_loss.result(), \n",
        "                                                train_accuracy.result()))\n",
        "\n",
        "  print ('Time taken for 1 epoch: {} secs\\n'.format(time.time() - start))"
      ],
      "execution_count": 0,
      "outputs": []
    },
    {
      "cell_type": "markdown",
      "metadata": {
        "colab_type": "text",
        "id": "QfcsSWswSdGV"
      },
      "source": [
        "## Evaluate"
      ]
    },
    {
      "cell_type": "markdown",
      "metadata": {
        "colab_type": "text",
        "id": "y6APsFrgImLW"
      },
      "source": [
        "The following steps are used for evaluation:\n",
        "\n",
        "* Encode the input sentence using the Portuguese tokenizer (`tokenizer_pt`). Moreover, add the start and end token so the input is equivalent to what the model is trained with. This is the encoder input.\n",
        "* The decoder input is the `start token == tokenizer_en.vocab_size`.\n",
        "* Calculate the padding masks and the look ahead masks.\n",
        "* The `decoder` then outputs the predictions by looking at the `encoder output` and its own output (self-attention).\n",
        "* Select the last word and calculate the argmax of that.\n",
        "* Concatentate the predicted word to the decoder input as pass it to the decoder.\n",
        "* In this approach, the decoder predicts the next word based on the previous words it predicted.\n",
        "\n",
        "Note: The model used here has less capacity to keep the example relatively faster so the predictions maybe less right. To reproduce the results in the paper, use the entire dataset and base transformer model or transformer XL, by changing the hyperparameters above."
      ]
    },
    {
      "cell_type": "code",
      "metadata": {
        "colab_type": "code",
        "id": "5buvMlnvyrFm",
        "colab": {}
      },
      "source": [
        "def evaluate(q, c):\n",
        "  q_start_token = [tokenizer_all.vocab_size]\n",
        "  q_end_token = [tokenizer_all.vocab_size + 1]\n",
        "\n",
        "  c_start_token = q_start_token\n",
        "  c_end_token = q_end_token\n",
        "  \n",
        "  # inp sentence is portuguese, hence adding the start and end token\n",
        "  q = q_start_token + tokenizer_all.encode(q) + q_end_token\n",
        "  while len(q) < q_max_length:\n",
        "    q.append(0)\n",
        "  q_encoder_input = tf.expand_dims(q, 0)\n",
        "\n",
        "\n",
        "  c = c_start_token + tokenizer_all.encode(c) + c_end_token\n",
        "  while len(c) < c_max_length:\n",
        "    c.append(0)\n",
        "  c_encoder_input = tf.expand_dims(c, 0)\n",
        "  \n",
        "  # as the target is english, the first word to the transformer should be the\n",
        "  # english start token.\n",
        "  decoder_input = [tokenizer_all.vocab_size]\n",
        "  output = tf.expand_dims(decoder_input, 0)\n",
        "    \n",
        "  for i in range(8):\n",
        "    q_enc_padding_mask, c_enc_padding_mask, combined_mask, q_dec_padding_mask, c_dec_padding_mask = create_masks(\n",
        "        q_encoder_input, c_encoder_input, output)\n",
        "  \n",
        "    # predictions.shape == (batch_size, seq_len, vocab_size)\n",
        "    predictions, attention_weights = transformer(q_encoder_input, \n",
        "                                                 c_encoder_input,\n",
        "                                                 output,\n",
        "                                                 False,\n",
        "                                                 q_enc_padding_mask,\n",
        "                                                 c_enc_padding_mask,\n",
        "                                                 combined_mask,\n",
        "                                                 q_dec_padding_mask,\n",
        "                                                 c_dec_padding_mask)\n",
        "    \n",
        "    # select the last word from the seq_len dimension\n",
        "    predictions = predictions[: ,-1:, :]  # (batch_size, 1, vocab_size)\n",
        "\n",
        "    predicted_id = tf.cast(tf.argmax(predictions, axis=-1), tf.int32)\n",
        "    top_vals, top_indices = tf.nn.top_k(predictions[0][0], 5, sorted=True)\n",
        "    #print(top_vals)\n",
        "    #for i in top_indices:\n",
        "    #  print(tokenizer_all.decode(i))\n",
        "\n",
        "    #predicted_sentence = tokenizer_all.decode([i for i in top_indices \n",
        "    #                                        if i < tokenizer_all.vocab_size])\n",
        "    #print(predicted_sentence)\n",
        "\n",
        "\n",
        "    # return the result if the predicted_id is equal to the end token\n",
        "    if predicted_id == tokenizer_all.vocab_size+1:\n",
        "      #print('pred end')\n",
        "      return tf.squeeze(output, axis=0), attention_weights\n",
        "    \n",
        "    # concatentate the predicted_id to the output which is given to the decoder\n",
        "    # as its input.\n",
        "    output = tf.concat([output, predicted_id], axis=-1)\n",
        "\n",
        "  return tf.squeeze(output, axis=0), attention_weights"
      ],
      "execution_count": 0,
      "outputs": []
    },
    {
      "cell_type": "code",
      "metadata": {
        "id": "JHBLmj1K8qzH",
        "colab_type": "code",
        "colab": {}
      },
      "source": [
        ""
      ],
      "execution_count": 0,
      "outputs": []
    },
    {
      "cell_type": "code",
      "metadata": {
        "colab_type": "code",
        "id": "CN-BV43FMBej",
        "colab": {}
      },
      "source": [
        "def plot_attention_weights(attention, sentence, result, layer):\n",
        "  fig = plt.figure(figsize=(64, 32))\n",
        "  \n",
        "  sentence = tokenizer_all.encode(sentence)\n",
        "  \n",
        "  attention = tf.squeeze(attention[layer], axis=0)\n",
        "  \n",
        "  #for head in range(attention.shape[0]):\n",
        "  ax = fig.add_subplot(2, 4, 1)\n",
        "  \n",
        "  # plot the attention weights\n",
        "  ax.matshow(attention[:-1, :], cmap='viridis')\n",
        "\n",
        "  fontdict = {'fontsize': 10}\n",
        "  \n",
        "  ax.set_xticks(range(len(sentence)+2))\n",
        "  ax.set_yticks(range(len(result)))\n",
        "  \n",
        "  ax.set_ylim(len(result)-1.5, -0.5)\n",
        "      \n",
        "  ax.set_xticklabels(\n",
        "      ['<start>']+[tokenizer_all.decode([i]) for i in sentence]+['<end>'], \n",
        "      fontdict=fontdict, rotation=90)\n",
        "  \n",
        "  # ax.set_yticklabels([tokenizer_a.decode([i]) for i in result \n",
        "  #                     if i < tokenizer_a.vocab_size], \n",
        "  #                    fontdict=fontdict)\n",
        "  \n",
        "  ax.set_xlabel('Head {}'.format(head+1))\n",
        "  \n",
        "  plt.tight_layout()\n",
        "  plt.show()"
      ],
      "execution_count": 0,
      "outputs": []
    },
    {
      "cell_type": "code",
      "metadata": {
        "colab_type": "code",
        "id": "lU2_yG_vBGza",
        "colab": {}
      },
      "source": [
        "def translate(q, c, plot=''):\n",
        "  result, attention_weights = evaluate(q, c)\n",
        "\n",
        "  predicted_sentence = tokenizer_all.decode([i for i in result \n",
        "                                            if i < tokenizer_all.vocab_size])  \n",
        "\n",
        "  print('Input Question: {}'.format(q))\n",
        "  print('Input Context: {}'.format(c))\n",
        "  print('Predicted translation: {}'.format(predicted_sentence))\n",
        "  \n",
        "  if plot:\n",
        "     plot_attention_weights(attention_weights, q, c, plot)"
      ],
      "execution_count": 0,
      "outputs": []
    },
    {
      "cell_type": "code",
      "metadata": {
        "colab_type": "code",
        "id": "YsxrAlvFG8SZ",
        "colab": {}
      },
      "source": [
        "context = \"\"\"Super Bowl 50 was an American football game to determine the champion of the National Football League (NFL) for the 2015 season. The American Football Conference (AFC) champion Denver Broncos defeated the National Football Conference (NFC) champion Carolina Panthers 24–10 to earn their third Super Bowl title. The game was played on February 7, 2016, at Levi's Stadium in the San Francisco Bay Area at Santa Clara, California. As this was the 50th Super Bowl, the league emphasized the \"golden anniversary\" with various gold-themed initiatives, as well as temporarily suspending the tradition of naming each Super Bowl game with Roman numerals (under which the game would have been known as \"Super Bowl L\"), so that the logo could prominently feature the Arabic numerals 50.\"\"\"\n",
        "question =  \"Which NFL team represented the AFC at Super Bowl 50?\"\n",
        "\n",
        "translate(question, context)\n",
        "print (\"Real translation: Denver Broncos\")"
      ],
      "execution_count": 0,
      "outputs": []
    },
    {
      "cell_type": "code",
      "metadata": {
        "id": "SClM0hAJ-utk",
        "colab_type": "code",
        "colab": {}
      },
      "source": [
        "tokenizer_all.vocab_size"
      ],
      "execution_count": 0,
      "outputs": []
    },
    {
      "cell_type": "code",
      "metadata": {
        "id": "zPxGoLX5vL-T",
        "colab_type": "code",
        "colab": {}
      },
      "source": [
        "# In training data\n",
        "question = 'what people brought old english to britain ?'\n",
        "context = 'old english nglisc , anglisc , englisc or anglo saxon is the earliest historical form of the english language , spoken in england and southern and eastern scotland in the early middle ages . it was brought to great britain by anglo saxon settlers probably in the mid th century , and the first old english literary works date from the mid th century . after the norman conquest of , english was replaced for a time as the language of the upper classes by anglo norman , a relative of french , and old english developed into the next historical form of english , known as middle english .'\n",
        "translate(question, context)\n",
        "print('Real answer: anglo saxon settlers')"
      ],
      "execution_count": 0,
      "outputs": []
    },
    {
      "cell_type": "code",
      "metadata": {
        "id": "FJXgqRih0kNV",
        "colab_type": "code",
        "colab": {}
      },
      "source": [
        ""
      ],
      "execution_count": 0,
      "outputs": []
    },
    {
      "cell_type": "code",
      "metadata": {
        "id": "SFKkFMuBWiQD",
        "colab_type": "code",
        "colab": {}
      },
      "source": [
        "  predicted_sentence = tokenizer_a.decode([i for i in [1, 1136, 393]])  \n",
        "  print(predicted_sentence)"
      ],
      "execution_count": 0,
      "outputs": []
    },
    {
      "cell_type": "code",
      "metadata": {
        "colab_type": "code",
        "id": "7EH5y_aqI4t1",
        "colab": {}
      },
      "source": [
        "context =  \"\"\"The Apollo program, also known as Project Apollo, was the third United States human spaceflight program carried out by the National Aeronautics and Space Administration (NASA), which accomplished landing the first humans on the Moon from 1969 to 1972. First conceived during Dwight D. Eisenhower's administration as a three-man spacecraft to follow the one-man Project Mercury which put the first Americans in space, Apollo was later dedicated to President John F. Kennedy's national goal of \"landing a man on the Moon and returning him safely to the Earth\" by the end of the 1960s, which he proposed in a May 25, 1961, address to Congress. Project Mercury was followed by the two-man Project Gemini (1962–66). The first manned flight of Apollo was in 1968.\"\"\"\n",
        "question =  \"What program was created to carry out these projects and missions?\"\n",
        "\n",
        "translate(question, context)\n",
        "print (\"Real translation: National Aeronautics and Space Administration (NASA)\")"
      ],
      "execution_count": 0,
      "outputs": []
    },
    {
      "cell_type": "code",
      "metadata": {
        "id": "k4NnyinzSwIe",
        "colab_type": "code",
        "colab": {}
      },
      "source": [
        "context =  \"\"\"European Union law is a body of treaties and legislation, such as Regulations and Directives, which have direct effect or indirect effect on the laws of European Union member states. The three sources of European Union law are primary law, secondary law and supplementary law. The main sources of primary law are the Treaties establishing the European Union. Secondary sources include regulations and directives which are based on the Treaties. The legislature of the European Union is principally composed of the European Parliament and the Council of the European Union, which under the Treaties may establish secondary law to pursue the objective set out in the Treaties.\"\"\"\n",
        "question =  \"What is European Union law?\"\n",
        "\n",
        "translate(question, context)\n",
        "print (\"Real translation: a body of treaties and legislation\")"
      ],
      "execution_count": 0,
      "outputs": []
    },
    {
      "cell_type": "code",
      "metadata": {
        "id": "alwqKxmLTLQf",
        "colab_type": "code",
        "colab": {}
      },
      "source": [
        "# from google.colab import drive\n",
        "# drive.mount('/content/drive')"
      ],
      "execution_count": 0,
      "outputs": []
    },
    {
      "cell_type": "code",
      "metadata": {
        "id": "4jqk7Vm9Tl4-",
        "colab_type": "code",
        "colab": {}
      },
      "source": [
        "# import shutil\n",
        "# #!gsutil cp -r gs://checkpoints /drive/My Drive/W266/FInalProject/transformer_v2_checkpoints/\n",
        "# shutil.copytree(\"/content/checkpoints\", \"drive/My Drive/W266/FInalProject/transformer_v2_checkpoints/\") \n"
      ],
      "execution_count": 0,
      "outputs": []
    },
    {
      "cell_type": "code",
      "metadata": {
        "id": "awxgAkeQVLlz",
        "colab_type": "code",
        "colab": {}
      },
      "source": [
        "# !ls /content/checkpoints/train -al --file-type"
      ],
      "execution_count": 0,
      "outputs": []
    },
    {
      "cell_type": "markdown",
      "metadata": {
        "colab_type": "text",
        "id": "RqQ1fIsLwkGE"
      },
      "source": [
        "## Summary\n",
        "\n",
        "In this tutorial, you learned about positional encoding, multi-head attention, the importance of masking and how to create a transformer.\n",
        "\n",
        "Try using a different dataset to train the transformer. You can also create the base transformer or transformer XL by changing the hyperparameters above. You can also use the layers defined here to create [BERT](https://arxiv.org/abs/1810.04805) and train state of the art models. Futhermore, you can implement beam search to get better predictions."
      ]
    }
  ]
}